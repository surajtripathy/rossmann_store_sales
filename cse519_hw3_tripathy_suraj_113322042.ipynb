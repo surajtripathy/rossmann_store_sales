{
  "nbformat": 4,
  "nbformat_minor": 0,
  "metadata": {
    "colab": {
      "name": "Assignment_3.ipynb",
      "provenance": [],
      "collapsed_sections": []
    },
    "kernelspec": {
      "name": "python3",
      "display_name": "Python 3"
    },
    "language_info": {
      "name": "python"
    }
  },
  "cells": [
    {
      "cell_type": "markdown",
      "metadata": {
        "id": "Jn1zKNgakaK_"
      },
      "source": [
        "## **Mounting drive and import statements**\n",
        "\n",
        "- Mount google drive and import libraries"
      ]
    },
    {
      "cell_type": "code",
      "metadata": {
        "colab": {
          "base_uri": "https://localhost:8080/"
        },
        "id": "8goLjJlD5zLL",
        "outputId": "97238612-5585-40e1-a391-6e2b822e61cf"
      },
      "source": [
        "## To load up drive\n",
        "\n",
        "%cd drive/MyDrive/CSE_519_assignment/hw3"
      ],
      "execution_count": 1,
      "outputs": [
        {
          "output_type": "stream",
          "name": "stdout",
          "text": [
            "/content/drive/MyDrive/CSE_519_assignment/hw3\n"
          ]
        }
      ]
    },
    {
      "cell_type": "code",
      "metadata": {
        "id": "ZODYm6yb5_X2"
      },
      "source": [
        "## Import statements\n",
        "\n",
        "import numpy as np\n",
        "import pandas as pd\n",
        "import seaborn as sns\n",
        "import os\n",
        "from sklearn import metrics\n",
        "from sklearn.model_selection import train_test_split\n",
        "import matplotlib.pyplot as plt\n",
        "import datetime\n",
        "from sklearn.linear_model import LinearRegression\n",
        "from sklearn.ensemble import RandomForestRegressor, RandomForestClassifier\n",
        "from sklearn.model_selection import permutation_test_score\n",
        "from scipy import stats\n",
        "\n",
        "root_dir = os.getcwd()\n",
        "pd.set_option('display.max_columns', None)\n",
        "pd.set_option('display.max_rows', None)"
      ],
      "execution_count": 2,
      "outputs": []
    },
    {
      "cell_type": "markdown",
      "metadata": {
        "id": "EOX1_eTJl1pl"
      },
      "source": [
        "## **Q1Reading store data and train data, visualization and data combination**\n",
        "\n",
        "- Read store data, train data, test data.\n",
        "- Check missing elements and handle them(Drop, fill with mean).\n",
        "- Merge store data with train data into a single dataframe. "
      ]
    },
    {
      "cell_type": "code",
      "metadata": {
        "id": "v1gROmip6SI0"
      },
      "source": [
        "store_df = pd.read_csv(root_dir + \"/store.csv\")"
      ],
      "execution_count": 3,
      "outputs": []
    },
    {
      "cell_type": "code",
      "metadata": {
        "id": "Mu6mruT07YZf",
        "colab": {
          "base_uri": "https://localhost:8080/"
        },
        "outputId": "d437c9fa-00af-4091-f2fa-2ffe86d9b33c"
      },
      "source": [
        "train_df = pd.read_csv(root_dir + \"/train.csv\")"
      ],
      "execution_count": 4,
      "outputs": [
        {
          "output_type": "stream",
          "name": "stderr",
          "text": [
            "/usr/local/lib/python3.7/dist-packages/IPython/core/interactiveshell.py:2718: DtypeWarning: Columns (7) have mixed types.Specify dtype option on import or set low_memory=False.\n",
            "  interactivity=interactivity, compiler=compiler, result=result)\n"
          ]
        }
      ]
    },
    {
      "cell_type": "code",
      "metadata": {
        "id": "54nR9W-jxau5"
      },
      "source": [
        "test_df = pd.read_csv(root_dir + \"/test.csv\")"
      ],
      "execution_count": 5,
      "outputs": []
    },
    {
      "cell_type": "code",
      "metadata": {
        "colab": {
          "base_uri": "https://localhost:8080/"
        },
        "id": "M1IE57dBP1da",
        "outputId": "caab275b-9839-4b61-ae0a-b35ed8a55e84"
      },
      "source": [
        "store_df.shape"
      ],
      "execution_count": 6,
      "outputs": [
        {
          "output_type": "execute_result",
          "data": {
            "text/plain": [
              "(1115, 10)"
            ]
          },
          "metadata": {},
          "execution_count": 6
        }
      ]
    },
    {
      "cell_type": "code",
      "metadata": {
        "colab": {
          "base_uri": "https://localhost:8080/"
        },
        "id": "jf1_Osh6P4Xi",
        "outputId": "b37cb68a-d853-45c9-f715-5f75de6315d5"
      },
      "source": [
        "train_df.shape"
      ],
      "execution_count": 7,
      "outputs": [
        {
          "output_type": "execute_result",
          "data": {
            "text/plain": [
              "(1017209, 9)"
            ]
          },
          "metadata": {},
          "execution_count": 7
        }
      ]
    },
    {
      "cell_type": "code",
      "metadata": {
        "colab": {
          "base_uri": "https://localhost:8080/",
          "height": 206
        },
        "id": "E9fAs4IX7al_",
        "outputId": "e2c35b2c-f5da-485d-89f1-6f8ca5fef642"
      },
      "source": [
        "store_df.head()"
      ],
      "execution_count": 8,
      "outputs": [
        {
          "output_type": "execute_result",
          "data": {
            "text/html": [
              "<div>\n",
              "<style scoped>\n",
              "    .dataframe tbody tr th:only-of-type {\n",
              "        vertical-align: middle;\n",
              "    }\n",
              "\n",
              "    .dataframe tbody tr th {\n",
              "        vertical-align: top;\n",
              "    }\n",
              "\n",
              "    .dataframe thead th {\n",
              "        text-align: right;\n",
              "    }\n",
              "</style>\n",
              "<table border=\"1\" class=\"dataframe\">\n",
              "  <thead>\n",
              "    <tr style=\"text-align: right;\">\n",
              "      <th></th>\n",
              "      <th>Store</th>\n",
              "      <th>StoreType</th>\n",
              "      <th>Assortment</th>\n",
              "      <th>CompetitionDistance</th>\n",
              "      <th>CompetitionOpenSinceMonth</th>\n",
              "      <th>CompetitionOpenSinceYear</th>\n",
              "      <th>Promo2</th>\n",
              "      <th>Promo2SinceWeek</th>\n",
              "      <th>Promo2SinceYear</th>\n",
              "      <th>PromoInterval</th>\n",
              "    </tr>\n",
              "  </thead>\n",
              "  <tbody>\n",
              "    <tr>\n",
              "      <th>0</th>\n",
              "      <td>1</td>\n",
              "      <td>c</td>\n",
              "      <td>a</td>\n",
              "      <td>1270.0</td>\n",
              "      <td>9.0</td>\n",
              "      <td>2008.0</td>\n",
              "      <td>0</td>\n",
              "      <td>NaN</td>\n",
              "      <td>NaN</td>\n",
              "      <td>NaN</td>\n",
              "    </tr>\n",
              "    <tr>\n",
              "      <th>1</th>\n",
              "      <td>2</td>\n",
              "      <td>a</td>\n",
              "      <td>a</td>\n",
              "      <td>570.0</td>\n",
              "      <td>11.0</td>\n",
              "      <td>2007.0</td>\n",
              "      <td>1</td>\n",
              "      <td>13.0</td>\n",
              "      <td>2010.0</td>\n",
              "      <td>Jan,Apr,Jul,Oct</td>\n",
              "    </tr>\n",
              "    <tr>\n",
              "      <th>2</th>\n",
              "      <td>3</td>\n",
              "      <td>a</td>\n",
              "      <td>a</td>\n",
              "      <td>14130.0</td>\n",
              "      <td>12.0</td>\n",
              "      <td>2006.0</td>\n",
              "      <td>1</td>\n",
              "      <td>14.0</td>\n",
              "      <td>2011.0</td>\n",
              "      <td>Jan,Apr,Jul,Oct</td>\n",
              "    </tr>\n",
              "    <tr>\n",
              "      <th>3</th>\n",
              "      <td>4</td>\n",
              "      <td>c</td>\n",
              "      <td>c</td>\n",
              "      <td>620.0</td>\n",
              "      <td>9.0</td>\n",
              "      <td>2009.0</td>\n",
              "      <td>0</td>\n",
              "      <td>NaN</td>\n",
              "      <td>NaN</td>\n",
              "      <td>NaN</td>\n",
              "    </tr>\n",
              "    <tr>\n",
              "      <th>4</th>\n",
              "      <td>5</td>\n",
              "      <td>a</td>\n",
              "      <td>a</td>\n",
              "      <td>29910.0</td>\n",
              "      <td>4.0</td>\n",
              "      <td>2015.0</td>\n",
              "      <td>0</td>\n",
              "      <td>NaN</td>\n",
              "      <td>NaN</td>\n",
              "      <td>NaN</td>\n",
              "    </tr>\n",
              "  </tbody>\n",
              "</table>\n",
              "</div>"
            ],
            "text/plain": [
              "   Store StoreType Assortment  CompetitionDistance  CompetitionOpenSinceMonth  \\\n",
              "0      1         c          a               1270.0                        9.0   \n",
              "1      2         a          a                570.0                       11.0   \n",
              "2      3         a          a              14130.0                       12.0   \n",
              "3      4         c          c                620.0                        9.0   \n",
              "4      5         a          a              29910.0                        4.0   \n",
              "\n",
              "   CompetitionOpenSinceYear  Promo2  Promo2SinceWeek  Promo2SinceYear  \\\n",
              "0                    2008.0       0              NaN              NaN   \n",
              "1                    2007.0       1             13.0           2010.0   \n",
              "2                    2006.0       1             14.0           2011.0   \n",
              "3                    2009.0       0              NaN              NaN   \n",
              "4                    2015.0       0              NaN              NaN   \n",
              "\n",
              "     PromoInterval  \n",
              "0              NaN  \n",
              "1  Jan,Apr,Jul,Oct  \n",
              "2  Jan,Apr,Jul,Oct  \n",
              "3              NaN  \n",
              "4              NaN  "
            ]
          },
          "metadata": {},
          "execution_count": 8
        }
      ]
    },
    {
      "cell_type": "code",
      "metadata": {
        "id": "Nms6ltkU7flA",
        "colab": {
          "base_uri": "https://localhost:8080/",
          "height": 206
        },
        "outputId": "5766fb53-e8c7-4421-8464-c48c3a817b09"
      },
      "source": [
        "train_df.head()"
      ],
      "execution_count": 9,
      "outputs": [
        {
          "output_type": "execute_result",
          "data": {
            "text/html": [
              "<div>\n",
              "<style scoped>\n",
              "    .dataframe tbody tr th:only-of-type {\n",
              "        vertical-align: middle;\n",
              "    }\n",
              "\n",
              "    .dataframe tbody tr th {\n",
              "        vertical-align: top;\n",
              "    }\n",
              "\n",
              "    .dataframe thead th {\n",
              "        text-align: right;\n",
              "    }\n",
              "</style>\n",
              "<table border=\"1\" class=\"dataframe\">\n",
              "  <thead>\n",
              "    <tr style=\"text-align: right;\">\n",
              "      <th></th>\n",
              "      <th>Store</th>\n",
              "      <th>DayOfWeek</th>\n",
              "      <th>Date</th>\n",
              "      <th>Sales</th>\n",
              "      <th>Customers</th>\n",
              "      <th>Open</th>\n",
              "      <th>Promo</th>\n",
              "      <th>StateHoliday</th>\n",
              "      <th>SchoolHoliday</th>\n",
              "    </tr>\n",
              "  </thead>\n",
              "  <tbody>\n",
              "    <tr>\n",
              "      <th>0</th>\n",
              "      <td>1</td>\n",
              "      <td>5</td>\n",
              "      <td>2015-07-31</td>\n",
              "      <td>5263</td>\n",
              "      <td>555</td>\n",
              "      <td>1</td>\n",
              "      <td>1</td>\n",
              "      <td>0</td>\n",
              "      <td>1</td>\n",
              "    </tr>\n",
              "    <tr>\n",
              "      <th>1</th>\n",
              "      <td>2</td>\n",
              "      <td>5</td>\n",
              "      <td>2015-07-31</td>\n",
              "      <td>6064</td>\n",
              "      <td>625</td>\n",
              "      <td>1</td>\n",
              "      <td>1</td>\n",
              "      <td>0</td>\n",
              "      <td>1</td>\n",
              "    </tr>\n",
              "    <tr>\n",
              "      <th>2</th>\n",
              "      <td>3</td>\n",
              "      <td>5</td>\n",
              "      <td>2015-07-31</td>\n",
              "      <td>8314</td>\n",
              "      <td>821</td>\n",
              "      <td>1</td>\n",
              "      <td>1</td>\n",
              "      <td>0</td>\n",
              "      <td>1</td>\n",
              "    </tr>\n",
              "    <tr>\n",
              "      <th>3</th>\n",
              "      <td>4</td>\n",
              "      <td>5</td>\n",
              "      <td>2015-07-31</td>\n",
              "      <td>13995</td>\n",
              "      <td>1498</td>\n",
              "      <td>1</td>\n",
              "      <td>1</td>\n",
              "      <td>0</td>\n",
              "      <td>1</td>\n",
              "    </tr>\n",
              "    <tr>\n",
              "      <th>4</th>\n",
              "      <td>5</td>\n",
              "      <td>5</td>\n",
              "      <td>2015-07-31</td>\n",
              "      <td>4822</td>\n",
              "      <td>559</td>\n",
              "      <td>1</td>\n",
              "      <td>1</td>\n",
              "      <td>0</td>\n",
              "      <td>1</td>\n",
              "    </tr>\n",
              "  </tbody>\n",
              "</table>\n",
              "</div>"
            ],
            "text/plain": [
              "   Store  DayOfWeek        Date  Sales  Customers  Open  Promo StateHoliday  \\\n",
              "0      1          5  2015-07-31   5263        555     1      1            0   \n",
              "1      2          5  2015-07-31   6064        625     1      1            0   \n",
              "2      3          5  2015-07-31   8314        821     1      1            0   \n",
              "3      4          5  2015-07-31  13995       1498     1      1            0   \n",
              "4      5          5  2015-07-31   4822        559     1      1            0   \n",
              "\n",
              "   SchoolHoliday  \n",
              "0              1  \n",
              "1              1  \n",
              "2              1  \n",
              "3              1  \n",
              "4              1  "
            ]
          },
          "metadata": {},
          "execution_count": 9
        }
      ]
    },
    {
      "cell_type": "code",
      "metadata": {
        "colab": {
          "base_uri": "https://localhost:8080/",
          "height": 300
        },
        "id": "RSB4z38sw1tF",
        "outputId": "7bc3d496-d67c-4195-a135-2d5eb53011d0"
      },
      "source": [
        "train_df.describe()"
      ],
      "execution_count": 10,
      "outputs": [
        {
          "output_type": "execute_result",
          "data": {
            "text/html": [
              "<div>\n",
              "<style scoped>\n",
              "    .dataframe tbody tr th:only-of-type {\n",
              "        vertical-align: middle;\n",
              "    }\n",
              "\n",
              "    .dataframe tbody tr th {\n",
              "        vertical-align: top;\n",
              "    }\n",
              "\n",
              "    .dataframe thead th {\n",
              "        text-align: right;\n",
              "    }\n",
              "</style>\n",
              "<table border=\"1\" class=\"dataframe\">\n",
              "  <thead>\n",
              "    <tr style=\"text-align: right;\">\n",
              "      <th></th>\n",
              "      <th>Store</th>\n",
              "      <th>DayOfWeek</th>\n",
              "      <th>Sales</th>\n",
              "      <th>Customers</th>\n",
              "      <th>Open</th>\n",
              "      <th>Promo</th>\n",
              "      <th>SchoolHoliday</th>\n",
              "    </tr>\n",
              "  </thead>\n",
              "  <tbody>\n",
              "    <tr>\n",
              "      <th>count</th>\n",
              "      <td>1.017209e+06</td>\n",
              "      <td>1.017209e+06</td>\n",
              "      <td>1.017209e+06</td>\n",
              "      <td>1.017209e+06</td>\n",
              "      <td>1.017209e+06</td>\n",
              "      <td>1.017209e+06</td>\n",
              "      <td>1.017209e+06</td>\n",
              "    </tr>\n",
              "    <tr>\n",
              "      <th>mean</th>\n",
              "      <td>5.584297e+02</td>\n",
              "      <td>3.998341e+00</td>\n",
              "      <td>5.773819e+03</td>\n",
              "      <td>6.331459e+02</td>\n",
              "      <td>8.301067e-01</td>\n",
              "      <td>3.815145e-01</td>\n",
              "      <td>1.786467e-01</td>\n",
              "    </tr>\n",
              "    <tr>\n",
              "      <th>std</th>\n",
              "      <td>3.219087e+02</td>\n",
              "      <td>1.997391e+00</td>\n",
              "      <td>3.849926e+03</td>\n",
              "      <td>4.644117e+02</td>\n",
              "      <td>3.755392e-01</td>\n",
              "      <td>4.857586e-01</td>\n",
              "      <td>3.830564e-01</td>\n",
              "    </tr>\n",
              "    <tr>\n",
              "      <th>min</th>\n",
              "      <td>1.000000e+00</td>\n",
              "      <td>1.000000e+00</td>\n",
              "      <td>0.000000e+00</td>\n",
              "      <td>0.000000e+00</td>\n",
              "      <td>0.000000e+00</td>\n",
              "      <td>0.000000e+00</td>\n",
              "      <td>0.000000e+00</td>\n",
              "    </tr>\n",
              "    <tr>\n",
              "      <th>25%</th>\n",
              "      <td>2.800000e+02</td>\n",
              "      <td>2.000000e+00</td>\n",
              "      <td>3.727000e+03</td>\n",
              "      <td>4.050000e+02</td>\n",
              "      <td>1.000000e+00</td>\n",
              "      <td>0.000000e+00</td>\n",
              "      <td>0.000000e+00</td>\n",
              "    </tr>\n",
              "    <tr>\n",
              "      <th>50%</th>\n",
              "      <td>5.580000e+02</td>\n",
              "      <td>4.000000e+00</td>\n",
              "      <td>5.744000e+03</td>\n",
              "      <td>6.090000e+02</td>\n",
              "      <td>1.000000e+00</td>\n",
              "      <td>0.000000e+00</td>\n",
              "      <td>0.000000e+00</td>\n",
              "    </tr>\n",
              "    <tr>\n",
              "      <th>75%</th>\n",
              "      <td>8.380000e+02</td>\n",
              "      <td>6.000000e+00</td>\n",
              "      <td>7.856000e+03</td>\n",
              "      <td>8.370000e+02</td>\n",
              "      <td>1.000000e+00</td>\n",
              "      <td>1.000000e+00</td>\n",
              "      <td>0.000000e+00</td>\n",
              "    </tr>\n",
              "    <tr>\n",
              "      <th>max</th>\n",
              "      <td>1.115000e+03</td>\n",
              "      <td>7.000000e+00</td>\n",
              "      <td>4.155100e+04</td>\n",
              "      <td>7.388000e+03</td>\n",
              "      <td>1.000000e+00</td>\n",
              "      <td>1.000000e+00</td>\n",
              "      <td>1.000000e+00</td>\n",
              "    </tr>\n",
              "  </tbody>\n",
              "</table>\n",
              "</div>"
            ],
            "text/plain": [
              "              Store     DayOfWeek         Sales     Customers          Open  \\\n",
              "count  1.017209e+06  1.017209e+06  1.017209e+06  1.017209e+06  1.017209e+06   \n",
              "mean   5.584297e+02  3.998341e+00  5.773819e+03  6.331459e+02  8.301067e-01   \n",
              "std    3.219087e+02  1.997391e+00  3.849926e+03  4.644117e+02  3.755392e-01   \n",
              "min    1.000000e+00  1.000000e+00  0.000000e+00  0.000000e+00  0.000000e+00   \n",
              "25%    2.800000e+02  2.000000e+00  3.727000e+03  4.050000e+02  1.000000e+00   \n",
              "50%    5.580000e+02  4.000000e+00  5.744000e+03  6.090000e+02  1.000000e+00   \n",
              "75%    8.380000e+02  6.000000e+00  7.856000e+03  8.370000e+02  1.000000e+00   \n",
              "max    1.115000e+03  7.000000e+00  4.155100e+04  7.388000e+03  1.000000e+00   \n",
              "\n",
              "              Promo  SchoolHoliday  \n",
              "count  1.017209e+06   1.017209e+06  \n",
              "mean   3.815145e-01   1.786467e-01  \n",
              "std    4.857586e-01   3.830564e-01  \n",
              "min    0.000000e+00   0.000000e+00  \n",
              "25%    0.000000e+00   0.000000e+00  \n",
              "50%    0.000000e+00   0.000000e+00  \n",
              "75%    1.000000e+00   0.000000e+00  \n",
              "max    1.000000e+00   1.000000e+00  "
            ]
          },
          "metadata": {},
          "execution_count": 10
        }
      ]
    },
    {
      "cell_type": "code",
      "metadata": {
        "colab": {
          "base_uri": "https://localhost:8080/",
          "height": 300
        },
        "id": "B8ZYPuxLxoOd",
        "outputId": "0095df35-f4a9-4110-8534-74f759d922a3"
      },
      "source": [
        "store_df.describe()"
      ],
      "execution_count": 11,
      "outputs": [
        {
          "output_type": "execute_result",
          "data": {
            "text/html": [
              "<div>\n",
              "<style scoped>\n",
              "    .dataframe tbody tr th:only-of-type {\n",
              "        vertical-align: middle;\n",
              "    }\n",
              "\n",
              "    .dataframe tbody tr th {\n",
              "        vertical-align: top;\n",
              "    }\n",
              "\n",
              "    .dataframe thead th {\n",
              "        text-align: right;\n",
              "    }\n",
              "</style>\n",
              "<table border=\"1\" class=\"dataframe\">\n",
              "  <thead>\n",
              "    <tr style=\"text-align: right;\">\n",
              "      <th></th>\n",
              "      <th>Store</th>\n",
              "      <th>CompetitionDistance</th>\n",
              "      <th>CompetitionOpenSinceMonth</th>\n",
              "      <th>CompetitionOpenSinceYear</th>\n",
              "      <th>Promo2</th>\n",
              "      <th>Promo2SinceWeek</th>\n",
              "      <th>Promo2SinceYear</th>\n",
              "    </tr>\n",
              "  </thead>\n",
              "  <tbody>\n",
              "    <tr>\n",
              "      <th>count</th>\n",
              "      <td>1115.00000</td>\n",
              "      <td>1112.000000</td>\n",
              "      <td>761.000000</td>\n",
              "      <td>761.000000</td>\n",
              "      <td>1115.000000</td>\n",
              "      <td>571.000000</td>\n",
              "      <td>571.000000</td>\n",
              "    </tr>\n",
              "    <tr>\n",
              "      <th>mean</th>\n",
              "      <td>558.00000</td>\n",
              "      <td>5404.901079</td>\n",
              "      <td>7.224704</td>\n",
              "      <td>2008.668857</td>\n",
              "      <td>0.512108</td>\n",
              "      <td>23.595447</td>\n",
              "      <td>2011.763573</td>\n",
              "    </tr>\n",
              "    <tr>\n",
              "      <th>std</th>\n",
              "      <td>322.01708</td>\n",
              "      <td>7663.174720</td>\n",
              "      <td>3.212348</td>\n",
              "      <td>6.195983</td>\n",
              "      <td>0.500078</td>\n",
              "      <td>14.141984</td>\n",
              "      <td>1.674935</td>\n",
              "    </tr>\n",
              "    <tr>\n",
              "      <th>min</th>\n",
              "      <td>1.00000</td>\n",
              "      <td>20.000000</td>\n",
              "      <td>1.000000</td>\n",
              "      <td>1900.000000</td>\n",
              "      <td>0.000000</td>\n",
              "      <td>1.000000</td>\n",
              "      <td>2009.000000</td>\n",
              "    </tr>\n",
              "    <tr>\n",
              "      <th>25%</th>\n",
              "      <td>279.50000</td>\n",
              "      <td>717.500000</td>\n",
              "      <td>4.000000</td>\n",
              "      <td>2006.000000</td>\n",
              "      <td>0.000000</td>\n",
              "      <td>13.000000</td>\n",
              "      <td>2011.000000</td>\n",
              "    </tr>\n",
              "    <tr>\n",
              "      <th>50%</th>\n",
              "      <td>558.00000</td>\n",
              "      <td>2325.000000</td>\n",
              "      <td>8.000000</td>\n",
              "      <td>2010.000000</td>\n",
              "      <td>1.000000</td>\n",
              "      <td>22.000000</td>\n",
              "      <td>2012.000000</td>\n",
              "    </tr>\n",
              "    <tr>\n",
              "      <th>75%</th>\n",
              "      <td>836.50000</td>\n",
              "      <td>6882.500000</td>\n",
              "      <td>10.000000</td>\n",
              "      <td>2013.000000</td>\n",
              "      <td>1.000000</td>\n",
              "      <td>37.000000</td>\n",
              "      <td>2013.000000</td>\n",
              "    </tr>\n",
              "    <tr>\n",
              "      <th>max</th>\n",
              "      <td>1115.00000</td>\n",
              "      <td>75860.000000</td>\n",
              "      <td>12.000000</td>\n",
              "      <td>2015.000000</td>\n",
              "      <td>1.000000</td>\n",
              "      <td>50.000000</td>\n",
              "      <td>2015.000000</td>\n",
              "    </tr>\n",
              "  </tbody>\n",
              "</table>\n",
              "</div>"
            ],
            "text/plain": [
              "            Store  CompetitionDistance  CompetitionOpenSinceMonth  \\\n",
              "count  1115.00000          1112.000000                 761.000000   \n",
              "mean    558.00000          5404.901079                   7.224704   \n",
              "std     322.01708          7663.174720                   3.212348   \n",
              "min       1.00000            20.000000                   1.000000   \n",
              "25%     279.50000           717.500000                   4.000000   \n",
              "50%     558.00000          2325.000000                   8.000000   \n",
              "75%     836.50000          6882.500000                  10.000000   \n",
              "max    1115.00000         75860.000000                  12.000000   \n",
              "\n",
              "       CompetitionOpenSinceYear       Promo2  Promo2SinceWeek  Promo2SinceYear  \n",
              "count                761.000000  1115.000000       571.000000       571.000000  \n",
              "mean                2008.668857     0.512108        23.595447      2011.763573  \n",
              "std                    6.195983     0.500078        14.141984         1.674935  \n",
              "min                 1900.000000     0.000000         1.000000      2009.000000  \n",
              "25%                 2006.000000     0.000000        13.000000      2011.000000  \n",
              "50%                 2010.000000     1.000000        22.000000      2012.000000  \n",
              "75%                 2013.000000     1.000000        37.000000      2013.000000  \n",
              "max                 2015.000000     1.000000        50.000000      2015.000000  "
            ]
          },
          "metadata": {},
          "execution_count": 11
        }
      ]
    },
    {
      "cell_type": "code",
      "metadata": {
        "colab": {
          "base_uri": "https://localhost:8080/"
        },
        "id": "OzMO5S5FxrC4",
        "outputId": "29de5f07-1bb7-476b-c0c7-b47b6c89ce50"
      },
      "source": [
        "missing = train_df.isnull().sum()\n",
        "missing.sort_values(ascending=False)"
      ],
      "execution_count": 12,
      "outputs": [
        {
          "output_type": "execute_result",
          "data": {
            "text/plain": [
              "SchoolHoliday    0\n",
              "StateHoliday     0\n",
              "Promo            0\n",
              "Open             0\n",
              "Customers        0\n",
              "Sales            0\n",
              "Date             0\n",
              "DayOfWeek        0\n",
              "Store            0\n",
              "dtype: int64"
            ]
          },
          "metadata": {},
          "execution_count": 12
        }
      ]
    },
    {
      "cell_type": "code",
      "metadata": {
        "id": "jvm3ZThXx0Rv"
      },
      "source": [
        "train_df['SalesPerCustomer'] = train_df['Sales']/train_df['Customers']"
      ],
      "execution_count": 13,
      "outputs": []
    },
    {
      "cell_type": "code",
      "metadata": {
        "id": "n1X-QGbw2aJg"
      },
      "source": [
        "train_df.dropna(inplace=True)"
      ],
      "execution_count": 14,
      "outputs": []
    },
    {
      "cell_type": "code",
      "metadata": {
        "colab": {
          "base_uri": "https://localhost:8080/"
        },
        "id": "ZFeou3xf2kH_",
        "outputId": "b0125657-6962-4832-e8ba-095af669150d"
      },
      "source": [
        "store_df.isnull().sum()"
      ],
      "execution_count": 15,
      "outputs": [
        {
          "output_type": "execute_result",
          "data": {
            "text/plain": [
              "Store                          0\n",
              "StoreType                      0\n",
              "Assortment                     0\n",
              "CompetitionDistance            3\n",
              "CompetitionOpenSinceMonth    354\n",
              "CompetitionOpenSinceYear     354\n",
              "Promo2                         0\n",
              "Promo2SinceWeek              544\n",
              "Promo2SinceYear              544\n",
              "PromoInterval                544\n",
              "dtype: int64"
            ]
          },
          "metadata": {},
          "execution_count": 15
        }
      ]
    },
    {
      "cell_type": "code",
      "metadata": {
        "id": "CyP_9Mvv2rfi"
      },
      "source": [
        "store_df['CompetitionDistance'].fillna(store_df['CompetitionDistance'].mean(), inplace = True)"
      ],
      "execution_count": 16,
      "outputs": []
    },
    {
      "cell_type": "code",
      "metadata": {
        "id": "cmdYYSIL20KX"
      },
      "source": [
        "store_df.fillna(0, inplace = True)"
      ],
      "execution_count": 17,
      "outputs": []
    },
    {
      "cell_type": "code",
      "metadata": {
        "colab": {
          "base_uri": "https://localhost:8080/",
          "height": 206
        },
        "id": "UppUMl_-23kE",
        "outputId": "a924bfc8-7ce3-4669-a5c0-45ed8dea8208"
      },
      "source": [
        "store_df.head()"
      ],
      "execution_count": 18,
      "outputs": [
        {
          "output_type": "execute_result",
          "data": {
            "text/html": [
              "<div>\n",
              "<style scoped>\n",
              "    .dataframe tbody tr th:only-of-type {\n",
              "        vertical-align: middle;\n",
              "    }\n",
              "\n",
              "    .dataframe tbody tr th {\n",
              "        vertical-align: top;\n",
              "    }\n",
              "\n",
              "    .dataframe thead th {\n",
              "        text-align: right;\n",
              "    }\n",
              "</style>\n",
              "<table border=\"1\" class=\"dataframe\">\n",
              "  <thead>\n",
              "    <tr style=\"text-align: right;\">\n",
              "      <th></th>\n",
              "      <th>Store</th>\n",
              "      <th>StoreType</th>\n",
              "      <th>Assortment</th>\n",
              "      <th>CompetitionDistance</th>\n",
              "      <th>CompetitionOpenSinceMonth</th>\n",
              "      <th>CompetitionOpenSinceYear</th>\n",
              "      <th>Promo2</th>\n",
              "      <th>Promo2SinceWeek</th>\n",
              "      <th>Promo2SinceYear</th>\n",
              "      <th>PromoInterval</th>\n",
              "    </tr>\n",
              "  </thead>\n",
              "  <tbody>\n",
              "    <tr>\n",
              "      <th>0</th>\n",
              "      <td>1</td>\n",
              "      <td>c</td>\n",
              "      <td>a</td>\n",
              "      <td>1270.0</td>\n",
              "      <td>9.0</td>\n",
              "      <td>2008.0</td>\n",
              "      <td>0</td>\n",
              "      <td>0.0</td>\n",
              "      <td>0.0</td>\n",
              "      <td>0</td>\n",
              "    </tr>\n",
              "    <tr>\n",
              "      <th>1</th>\n",
              "      <td>2</td>\n",
              "      <td>a</td>\n",
              "      <td>a</td>\n",
              "      <td>570.0</td>\n",
              "      <td>11.0</td>\n",
              "      <td>2007.0</td>\n",
              "      <td>1</td>\n",
              "      <td>13.0</td>\n",
              "      <td>2010.0</td>\n",
              "      <td>Jan,Apr,Jul,Oct</td>\n",
              "    </tr>\n",
              "    <tr>\n",
              "      <th>2</th>\n",
              "      <td>3</td>\n",
              "      <td>a</td>\n",
              "      <td>a</td>\n",
              "      <td>14130.0</td>\n",
              "      <td>12.0</td>\n",
              "      <td>2006.0</td>\n",
              "      <td>1</td>\n",
              "      <td>14.0</td>\n",
              "      <td>2011.0</td>\n",
              "      <td>Jan,Apr,Jul,Oct</td>\n",
              "    </tr>\n",
              "    <tr>\n",
              "      <th>3</th>\n",
              "      <td>4</td>\n",
              "      <td>c</td>\n",
              "      <td>c</td>\n",
              "      <td>620.0</td>\n",
              "      <td>9.0</td>\n",
              "      <td>2009.0</td>\n",
              "      <td>0</td>\n",
              "      <td>0.0</td>\n",
              "      <td>0.0</td>\n",
              "      <td>0</td>\n",
              "    </tr>\n",
              "    <tr>\n",
              "      <th>4</th>\n",
              "      <td>5</td>\n",
              "      <td>a</td>\n",
              "      <td>a</td>\n",
              "      <td>29910.0</td>\n",
              "      <td>4.0</td>\n",
              "      <td>2015.0</td>\n",
              "      <td>0</td>\n",
              "      <td>0.0</td>\n",
              "      <td>0.0</td>\n",
              "      <td>0</td>\n",
              "    </tr>\n",
              "  </tbody>\n",
              "</table>\n",
              "</div>"
            ],
            "text/plain": [
              "   Store StoreType Assortment  CompetitionDistance  CompetitionOpenSinceMonth  \\\n",
              "0      1         c          a               1270.0                        9.0   \n",
              "1      2         a          a                570.0                       11.0   \n",
              "2      3         a          a              14130.0                       12.0   \n",
              "3      4         c          c                620.0                        9.0   \n",
              "4      5         a          a              29910.0                        4.0   \n",
              "\n",
              "   CompetitionOpenSinceYear  Promo2  Promo2SinceWeek  Promo2SinceYear  \\\n",
              "0                    2008.0       0              0.0              0.0   \n",
              "1                    2007.0       1             13.0           2010.0   \n",
              "2                    2006.0       1             14.0           2011.0   \n",
              "3                    2009.0       0              0.0              0.0   \n",
              "4                    2015.0       0              0.0              0.0   \n",
              "\n",
              "     PromoInterval  \n",
              "0                0  \n",
              "1  Jan,Apr,Jul,Oct  \n",
              "2  Jan,Apr,Jul,Oct  \n",
              "3                0  \n",
              "4                0  "
            ]
          },
          "metadata": {},
          "execution_count": 18
        }
      ]
    },
    {
      "cell_type": "code",
      "metadata": {
        "id": "JKkGmD9JBXfS"
      },
      "source": [
        "train_df = train_df.merge(right=store_df, on='Store', how='left')"
      ],
      "execution_count": 19,
      "outputs": []
    },
    {
      "cell_type": "code",
      "metadata": {
        "colab": {
          "base_uri": "https://localhost:8080/"
        },
        "id": "TXtAvhWqO3O1",
        "outputId": "b1bd94f0-b171-41fb-c7c0-c7b17f7404a2"
      },
      "source": [
        "train_df.shape"
      ],
      "execution_count": 20,
      "outputs": [
        {
          "output_type": "execute_result",
          "data": {
            "text/plain": [
              "(844340, 19)"
            ]
          },
          "metadata": {},
          "execution_count": 20
        }
      ]
    },
    {
      "cell_type": "code",
      "metadata": {
        "colab": {
          "base_uri": "https://localhost:8080/",
          "height": 226
        },
        "id": "sI2bmurLT9cV",
        "outputId": "1361bed5-fdc5-4343-b4a7-ce842fed5fa5"
      },
      "source": [
        "train_df.head()"
      ],
      "execution_count": 21,
      "outputs": [
        {
          "output_type": "execute_result",
          "data": {
            "text/html": [
              "<div>\n",
              "<style scoped>\n",
              "    .dataframe tbody tr th:only-of-type {\n",
              "        vertical-align: middle;\n",
              "    }\n",
              "\n",
              "    .dataframe tbody tr th {\n",
              "        vertical-align: top;\n",
              "    }\n",
              "\n",
              "    .dataframe thead th {\n",
              "        text-align: right;\n",
              "    }\n",
              "</style>\n",
              "<table border=\"1\" class=\"dataframe\">\n",
              "  <thead>\n",
              "    <tr style=\"text-align: right;\">\n",
              "      <th></th>\n",
              "      <th>Store</th>\n",
              "      <th>DayOfWeek</th>\n",
              "      <th>Date</th>\n",
              "      <th>Sales</th>\n",
              "      <th>Customers</th>\n",
              "      <th>Open</th>\n",
              "      <th>Promo</th>\n",
              "      <th>StateHoliday</th>\n",
              "      <th>SchoolHoliday</th>\n",
              "      <th>SalesPerCustomer</th>\n",
              "      <th>StoreType</th>\n",
              "      <th>Assortment</th>\n",
              "      <th>CompetitionDistance</th>\n",
              "      <th>CompetitionOpenSinceMonth</th>\n",
              "      <th>CompetitionOpenSinceYear</th>\n",
              "      <th>Promo2</th>\n",
              "      <th>Promo2SinceWeek</th>\n",
              "      <th>Promo2SinceYear</th>\n",
              "      <th>PromoInterval</th>\n",
              "    </tr>\n",
              "  </thead>\n",
              "  <tbody>\n",
              "    <tr>\n",
              "      <th>0</th>\n",
              "      <td>1</td>\n",
              "      <td>5</td>\n",
              "      <td>2015-07-31</td>\n",
              "      <td>5263</td>\n",
              "      <td>555</td>\n",
              "      <td>1</td>\n",
              "      <td>1</td>\n",
              "      <td>0</td>\n",
              "      <td>1</td>\n",
              "      <td>9.482883</td>\n",
              "      <td>c</td>\n",
              "      <td>a</td>\n",
              "      <td>1270.0</td>\n",
              "      <td>9.0</td>\n",
              "      <td>2008.0</td>\n",
              "      <td>0</td>\n",
              "      <td>0.0</td>\n",
              "      <td>0.0</td>\n",
              "      <td>0</td>\n",
              "    </tr>\n",
              "    <tr>\n",
              "      <th>1</th>\n",
              "      <td>2</td>\n",
              "      <td>5</td>\n",
              "      <td>2015-07-31</td>\n",
              "      <td>6064</td>\n",
              "      <td>625</td>\n",
              "      <td>1</td>\n",
              "      <td>1</td>\n",
              "      <td>0</td>\n",
              "      <td>1</td>\n",
              "      <td>9.702400</td>\n",
              "      <td>a</td>\n",
              "      <td>a</td>\n",
              "      <td>570.0</td>\n",
              "      <td>11.0</td>\n",
              "      <td>2007.0</td>\n",
              "      <td>1</td>\n",
              "      <td>13.0</td>\n",
              "      <td>2010.0</td>\n",
              "      <td>Jan,Apr,Jul,Oct</td>\n",
              "    </tr>\n",
              "    <tr>\n",
              "      <th>2</th>\n",
              "      <td>3</td>\n",
              "      <td>5</td>\n",
              "      <td>2015-07-31</td>\n",
              "      <td>8314</td>\n",
              "      <td>821</td>\n",
              "      <td>1</td>\n",
              "      <td>1</td>\n",
              "      <td>0</td>\n",
              "      <td>1</td>\n",
              "      <td>10.126675</td>\n",
              "      <td>a</td>\n",
              "      <td>a</td>\n",
              "      <td>14130.0</td>\n",
              "      <td>12.0</td>\n",
              "      <td>2006.0</td>\n",
              "      <td>1</td>\n",
              "      <td>14.0</td>\n",
              "      <td>2011.0</td>\n",
              "      <td>Jan,Apr,Jul,Oct</td>\n",
              "    </tr>\n",
              "    <tr>\n",
              "      <th>3</th>\n",
              "      <td>4</td>\n",
              "      <td>5</td>\n",
              "      <td>2015-07-31</td>\n",
              "      <td>13995</td>\n",
              "      <td>1498</td>\n",
              "      <td>1</td>\n",
              "      <td>1</td>\n",
              "      <td>0</td>\n",
              "      <td>1</td>\n",
              "      <td>9.342457</td>\n",
              "      <td>c</td>\n",
              "      <td>c</td>\n",
              "      <td>620.0</td>\n",
              "      <td>9.0</td>\n",
              "      <td>2009.0</td>\n",
              "      <td>0</td>\n",
              "      <td>0.0</td>\n",
              "      <td>0.0</td>\n",
              "      <td>0</td>\n",
              "    </tr>\n",
              "    <tr>\n",
              "      <th>4</th>\n",
              "      <td>5</td>\n",
              "      <td>5</td>\n",
              "      <td>2015-07-31</td>\n",
              "      <td>4822</td>\n",
              "      <td>559</td>\n",
              "      <td>1</td>\n",
              "      <td>1</td>\n",
              "      <td>0</td>\n",
              "      <td>1</td>\n",
              "      <td>8.626118</td>\n",
              "      <td>a</td>\n",
              "      <td>a</td>\n",
              "      <td>29910.0</td>\n",
              "      <td>4.0</td>\n",
              "      <td>2015.0</td>\n",
              "      <td>0</td>\n",
              "      <td>0.0</td>\n",
              "      <td>0.0</td>\n",
              "      <td>0</td>\n",
              "    </tr>\n",
              "  </tbody>\n",
              "</table>\n",
              "</div>"
            ],
            "text/plain": [
              "   Store  DayOfWeek        Date  Sales  Customers  Open  Promo StateHoliday  \\\n",
              "0      1          5  2015-07-31   5263        555     1      1            0   \n",
              "1      2          5  2015-07-31   6064        625     1      1            0   \n",
              "2      3          5  2015-07-31   8314        821     1      1            0   \n",
              "3      4          5  2015-07-31  13995       1498     1      1            0   \n",
              "4      5          5  2015-07-31   4822        559     1      1            0   \n",
              "\n",
              "   SchoolHoliday  SalesPerCustomer StoreType Assortment  CompetitionDistance  \\\n",
              "0              1          9.482883         c          a               1270.0   \n",
              "1              1          9.702400         a          a                570.0   \n",
              "2              1         10.126675         a          a              14130.0   \n",
              "3              1          9.342457         c          c                620.0   \n",
              "4              1          8.626118         a          a              29910.0   \n",
              "\n",
              "   CompetitionOpenSinceMonth  CompetitionOpenSinceYear  Promo2  \\\n",
              "0                        9.0                    2008.0       0   \n",
              "1                       11.0                    2007.0       1   \n",
              "2                       12.0                    2006.0       1   \n",
              "3                        9.0                    2009.0       0   \n",
              "4                        4.0                    2015.0       0   \n",
              "\n",
              "   Promo2SinceWeek  Promo2SinceYear    PromoInterval  \n",
              "0              0.0              0.0                0  \n",
              "1             13.0           2010.0  Jan,Apr,Jul,Oct  \n",
              "2             14.0           2011.0  Jan,Apr,Jul,Oct  \n",
              "3              0.0              0.0                0  \n",
              "4              0.0              0.0                0  "
            ]
          },
          "metadata": {},
          "execution_count": 21
        }
      ]
    },
    {
      "cell_type": "markdown",
      "metadata": {
        "id": "pQIzuazrm9_o"
      },
      "source": [
        "## **Converting string of date to datetime object and segregating to year, month, day, week_of_year, year_week**\n"
      ]
    },
    {
      "cell_type": "code",
      "metadata": {
        "id": "CPP5OjZYqOK7"
      },
      "source": [
        "train_df['Date'] = pd.to_datetime(train_df[\"Date\"])\n",
        "train_df[\"year\"] = train_df[\"Date\"].dt.year\n",
        "train_df[\"month\"] = train_df[\"Date\"].dt.month\n",
        "train_df[\"day\"] = train_df[\"Date\"].dt.day\n",
        "train_df[\"week_of_year\"] = train_df[\"Date\"].dt.isocalendar().week\n",
        "train_df[\"year_week\"] = train_df[\"Date\"].dt.strftime(\"%Y-%W\")\n"
      ],
      "execution_count": 22,
      "outputs": []
    },
    {
      "cell_type": "code",
      "metadata": {
        "colab": {
          "base_uri": "https://localhost:8080/",
          "height": 716
        },
        "id": "ThM5ToPuYun8",
        "outputId": "f87c8502-94fe-491e-d99a-e617b94ab935"
      },
      "source": [
        "train_df.hist(figsize=(20,12), legend=True)\n",
        "plt.show()"
      ],
      "execution_count": 23,
      "outputs": [
        {
          "output_type": "display_data",
          "data": {
            "image/png": "[encoded data removed]",
            "text/plain": [
              "<Figure size 1440x864 with 20 Axes>"
            ]
          },
          "metadata": {
            "needs_background": "light"
          }
        }
      ]
    },
    {
      "cell_type": "markdown",
      "metadata": {
        "id": "j3ah1_Y6nPrd"
      },
      "source": [
        "## **Analysis of different type of holidays with sales**\n",
        "- Combining \"0\" with 0 and making single entity.\n",
        "- Plotting sales on holidays vs all days\n",
        "- Take out 3 categories of holidays(holiday_a, holiday_b, holiday_c)\n",
        "- Compute sales a week before each date belonging to each category.\n",
        "- Plot the above calculation with the sales on the aggregation on holidays"
      ]
    },
    {
      "cell_type": "code",
      "metadata": {
        "colab": {
          "base_uri": "https://localhost:8080/"
        },
        "id": "LncZckPGBe1w",
        "outputId": "efd79c3a-cb47-403c-883c-7aa499878197"
      },
      "source": [
        "train_df['StateHoliday'].unique()"
      ],
      "execution_count": 24,
      "outputs": [
        {
          "output_type": "execute_result",
          "data": {
            "text/plain": [
              "array(['0', 'a', 'b', 'c', 0], dtype=object)"
            ]
          },
          "metadata": {},
          "execution_count": 24
        }
      ]
    },
    {
      "cell_type": "code",
      "metadata": {
        "colab": {
          "base_uri": "https://localhost:8080/"
        },
        "id": "9Gs0qNPvV4QF",
        "outputId": "7dcf7114-a27e-403c-e634-225db574ec1c"
      },
      "source": [
        "train_df[\"StateHoliday\"].loc[train_df[\"StateHoliday\"] == 0] = \"0\""
      ],
      "execution_count": 25,
      "outputs": [
        {
          "output_type": "stream",
          "name": "stderr",
          "text": [
            "/usr/local/lib/python3.7/dist-packages/pandas/core/indexing.py:670: SettingWithCopyWarning: \n",
            "A value is trying to be set on a copy of a slice from a DataFrame\n",
            "\n",
            "See the caveats in the documentation: https://pandas.pydata.org/pandas-docs/stable/user_guide/indexing.html#returning-a-view-versus-a-copy\n",
            "  iloc._setitem_with_indexer(indexer, value)\n"
          ]
        }
      ]
    },
    {
      "cell_type": "code",
      "metadata": {
        "colab": {
          "base_uri": "https://localhost:8080/"
        },
        "id": "UrpCKIIdBzAi",
        "outputId": "ca655c7f-f91d-42a4-c613-6362d82fb833"
      },
      "source": [
        "train_df['SchoolHoliday'].unique()"
      ],
      "execution_count": 26,
      "outputs": [
        {
          "output_type": "execute_result",
          "data": {
            "text/plain": [
              "array([1, 0])"
            ]
          },
          "metadata": {},
          "execution_count": 26
        }
      ]
    },
    {
      "cell_type": "code",
      "metadata": {
        "colab": {
          "base_uri": "https://localhost:8080/",
          "height": 296
        },
        "id": "zawgEBzCIjvJ",
        "outputId": "d7212c15-7c94-4d0f-a5cc-bc3021bda436"
      },
      "source": [
        "## Holidays + no_holidays\n",
        "sns.barplot(x='StateHoliday', y='Sales', data=train_df)"
      ],
      "execution_count": 27,
      "outputs": [
        {
          "output_type": "execute_result",
          "data": {
            "text/plain": [
              "<matplotlib.axes._subplots.AxesSubplot at 0x7ff752246ad0>"
            ]
          },
          "metadata": {},
          "execution_count": 27
        },
        {
          "output_type": "display_data",
          "data": {
            "image/png": "[encoded data removed]",
            "text/plain": [
              "<Figure size 432x288 with 1 Axes>"
            ]
          },
          "metadata": {
            "needs_background": "light"
          }
        }
      ]
    },
    {
      "cell_type": "code",
      "metadata": {
        "colab": {
          "base_uri": "https://localhost:8080/",
          "height": 296
        },
        "id": "1D_nqghohHu0",
        "outputId": "194ddd66-a1bf-467d-e909-1662c4acb772"
      },
      "source": [
        "## Holidays only\n",
        "mask = (train_df[\"StateHoliday\"] != \"0\") & (train_df[\"Sales\"] > 0)\n",
        "sns.barplot(x='StateHoliday', y='Sales', data=train_df[mask])"
      ],
      "execution_count": 28,
      "outputs": [
        {
          "output_type": "execute_result",
          "data": {
            "text/plain": [
              "<matplotlib.axes._subplots.AxesSubplot at 0x7ff754b7f690>"
            ]
          },
          "metadata": {},
          "execution_count": 28
        },
        {
          "output_type": "display_data",
          "data": {
            "image/png": "[encoded data removed]",
            "text/plain": [
              "<Figure size 432x288 with 1 Axes>"
            ]
          },
          "metadata": {
            "needs_background": "light"
          }
        }
      ]
    },
    {
      "cell_type": "markdown",
      "metadata": {
        "id": "Dr3avAnTPfil"
      },
      "source": [
        "## Find how much sales each type of StateHoliday has"
      ]
    },
    {
      "cell_type": "code",
      "metadata": {
        "colab": {
          "base_uri": "https://localhost:8080/",
          "height": 206
        },
        "id": "rKyNpB3zhiyi",
        "outputId": "d989ecf7-59ad-4430-bcc0-36e00cfee8d0"
      },
      "source": [
        "sales_per_day = train_df.groupby(['Date', 'StateHoliday']).agg({'Sales': 'sum'}).reset_index()\n",
        "sales_per_day.head()"
      ],
      "execution_count": 29,
      "outputs": [
        {
          "output_type": "execute_result",
          "data": {
            "text/html": [
              "<div>\n",
              "<style scoped>\n",
              "    .dataframe tbody tr th:only-of-type {\n",
              "        vertical-align: middle;\n",
              "    }\n",
              "\n",
              "    .dataframe tbody tr th {\n",
              "        vertical-align: top;\n",
              "    }\n",
              "\n",
              "    .dataframe thead th {\n",
              "        text-align: right;\n",
              "    }\n",
              "</style>\n",
              "<table border=\"1\" class=\"dataframe\">\n",
              "  <thead>\n",
              "    <tr style=\"text-align: right;\">\n",
              "      <th></th>\n",
              "      <th>Date</th>\n",
              "      <th>StateHoliday</th>\n",
              "      <th>Sales</th>\n",
              "    </tr>\n",
              "  </thead>\n",
              "  <tbody>\n",
              "    <tr>\n",
              "      <th>0</th>\n",
              "      <td>2013-01-01</td>\n",
              "      <td>a</td>\n",
              "      <td>97235</td>\n",
              "    </tr>\n",
              "    <tr>\n",
              "      <th>1</th>\n",
              "      <td>2013-01-02</td>\n",
              "      <td>0</td>\n",
              "      <td>6949829</td>\n",
              "    </tr>\n",
              "    <tr>\n",
              "      <th>2</th>\n",
              "      <td>2013-01-03</td>\n",
              "      <td>0</td>\n",
              "      <td>6347820</td>\n",
              "    </tr>\n",
              "    <tr>\n",
              "      <th>3</th>\n",
              "      <td>2013-01-04</td>\n",
              "      <td>0</td>\n",
              "      <td>6638954</td>\n",
              "    </tr>\n",
              "    <tr>\n",
              "      <th>4</th>\n",
              "      <td>2013-01-05</td>\n",
              "      <td>0</td>\n",
              "      <td>5951593</td>\n",
              "    </tr>\n",
              "  </tbody>\n",
              "</table>\n",
              "</div>"
            ],
            "text/plain": [
              "        Date StateHoliday    Sales\n",
              "0 2013-01-01            a    97235\n",
              "1 2013-01-02            0  6949829\n",
              "2 2013-01-03            0  6347820\n",
              "3 2013-01-04            0  6638954\n",
              "4 2013-01-05            0  5951593"
            ]
          },
          "metadata": {},
          "execution_count": 29
        }
      ]
    },
    {
      "cell_type": "code",
      "metadata": {
        "id": "AbKd5DaShh-d"
      },
      "source": [
        "holidays_df = sales_per_day[sales_per_day['StateHoliday'] != \"0\"]\n",
        "holiday_a = holidays_df[holidays_df['StateHoliday']=='a']\n",
        "holiday_b = holidays_df[holidays_df['StateHoliday']=='b']\n",
        "holiday_c = holidays_df[holidays_df['StateHoliday']=='c']\n",
        "non_holidays = sales_per_day[sales_per_day['StateHoliday'] == \"0\"]"
      ],
      "execution_count": 30,
      "outputs": []
    },
    {
      "cell_type": "markdown",
      "metadata": {
        "id": "jh-ZOX6YPkeg"
      },
      "source": [
        "## Helper function to check 7 days before holiday and plot the sales against the sales of the holiday"
      ]
    },
    {
      "cell_type": "code",
      "metadata": {
        "id": "fziUM7InHpfT"
      },
      "source": [
        "def compute_sales_for_previous_days(df, type):\n",
        "  dates = df['Date'].to_list()\n",
        "  temp_df = pd.DataFrame(columns=['Date', 'Before_Holidays', 'During_Holidays'])\n",
        "  days = datetime.timedelta(7)\n",
        "  for date in dates:\n",
        "    prev_date = date - days\n",
        "    sales = non_holidays[(non_holidays['Date'] >= prev_date) & (non_holidays['Date'] < date)]['Sales'].sum()\n",
        "    temp_df = temp_df.append({'Date': date, 'Before_Holidays': int(df[df['Date'] == date]['Sales'].values), 'During_Holidays': sales}, ignore_index=True)\n",
        "  temp_df[\"During_Holidays\"] = temp_df[\"During_Holidays\"]/25\n",
        "  temp_df.plot(x='Date', y=['Before_Holidays', 'During_Holidays'], kind='bar')"
      ],
      "execution_count": 31,
      "outputs": []
    },
    {
      "cell_type": "code",
      "metadata": {
        "colab": {
          "base_uri": "https://localhost:8080/",
          "height": 385
        },
        "id": "cHDLQCYnHpZy",
        "outputId": "01a3524c-64ca-49cd-bb77-c581b6fb1fea"
      },
      "source": [
        "compute_sales_for_previous_days(holiday_a,\"a\")"
      ],
      "execution_count": 32,
      "outputs": [
        {
          "output_type": "display_data",
          "data": {
            "image/png": "[encoded data removed]",
            "text/plain": [
              "<Figure size 432x288 with 1 Axes>"
            ]
          },
          "metadata": {
            "needs_background": "light"
          }
        }
      ]
    },
    {
      "cell_type": "code",
      "metadata": {
        "colab": {
          "base_uri": "https://localhost:8080/",
          "height": 385
        },
        "id": "s3rMez44HpXQ",
        "outputId": "3f3daa27-9233-4f35-d777-eed24a0a87f4"
      },
      "source": [
        "compute_sales_for_previous_days(holiday_b,\"b\")"
      ],
      "execution_count": 33,
      "outputs": [
        {
          "output_type": "display_data",
          "data": {
            "image/png": "[encoded data removed]",
            "text/plain": [
              "<Figure size 432x288 with 1 Axes>"
            ]
          },
          "metadata": {
            "needs_background": "light"
          }
        }
      ]
    },
    {
      "cell_type": "code",
      "metadata": {
        "colab": {
          "base_uri": "https://localhost:8080/",
          "height": 385
        },
        "id": "TsWsPHKhHpTp",
        "outputId": "63043da6-a493-40eb-8cb5-25f3b9770af1"
      },
      "source": [
        "compute_sales_for_previous_days(holiday_c,\"c\")"
      ],
      "execution_count": 34,
      "outputs": [
        {
          "output_type": "display_data",
          "data": {
            "image/png": "[encoded data removed]",
            "text/plain": [
              "<Figure size 432x288 with 1 Axes>"
            ]
          },
          "metadata": {
            "needs_background": "light"
          }
        }
      ]
    },
    {
      "cell_type": "markdown",
      "metadata": {
        "id": "jHQ_E7psobAi"
      },
      "source": [
        "## **Calculation of the top 5 and bottom 5 stores on basis of sales**\n",
        "- Group stores on basis of sum of sales and sort them\n",
        "- Take out the top 5 and bottom 5"
      ]
    },
    {
      "cell_type": "code",
      "metadata": {
        "id": "2tMdj2QQHpNw",
        "colab": {
          "base_uri": "https://localhost:8080/",
          "height": 206
        },
        "outputId": "21e4305d-4cf0-46a7-eb88-e184b0441b26"
      },
      "source": [
        "sales_per_store = train_df.groupby(['Store', 'Date']).agg({'Sales': 'sum'}).reset_index()\n",
        "sales_per_store.head()"
      ],
      "execution_count": 35,
      "outputs": [
        {
          "output_type": "execute_result",
          "data": {
            "text/html": [
              "<div>\n",
              "<style scoped>\n",
              "    .dataframe tbody tr th:only-of-type {\n",
              "        vertical-align: middle;\n",
              "    }\n",
              "\n",
              "    .dataframe tbody tr th {\n",
              "        vertical-align: top;\n",
              "    }\n",
              "\n",
              "    .dataframe thead th {\n",
              "        text-align: right;\n",
              "    }\n",
              "</style>\n",
              "<table border=\"1\" class=\"dataframe\">\n",
              "  <thead>\n",
              "    <tr style=\"text-align: right;\">\n",
              "      <th></th>\n",
              "      <th>Store</th>\n",
              "      <th>Date</th>\n",
              "      <th>Sales</th>\n",
              "    </tr>\n",
              "  </thead>\n",
              "  <tbody>\n",
              "    <tr>\n",
              "      <th>0</th>\n",
              "      <td>1</td>\n",
              "      <td>2013-01-02</td>\n",
              "      <td>5530</td>\n",
              "    </tr>\n",
              "    <tr>\n",
              "      <th>1</th>\n",
              "      <td>1</td>\n",
              "      <td>2013-01-03</td>\n",
              "      <td>4327</td>\n",
              "    </tr>\n",
              "    <tr>\n",
              "      <th>2</th>\n",
              "      <td>1</td>\n",
              "      <td>2013-01-04</td>\n",
              "      <td>4486</td>\n",
              "    </tr>\n",
              "    <tr>\n",
              "      <th>3</th>\n",
              "      <td>1</td>\n",
              "      <td>2013-01-05</td>\n",
              "      <td>4997</td>\n",
              "    </tr>\n",
              "    <tr>\n",
              "      <th>4</th>\n",
              "      <td>1</td>\n",
              "      <td>2013-01-07</td>\n",
              "      <td>7176</td>\n",
              "    </tr>\n",
              "  </tbody>\n",
              "</table>\n",
              "</div>"
            ],
            "text/plain": [
              "   Store       Date  Sales\n",
              "0      1 2013-01-02   5530\n",
              "1      1 2013-01-03   4327\n",
              "2      1 2013-01-04   4486\n",
              "3      1 2013-01-05   4997\n",
              "4      1 2013-01-07   7176"
            ]
          },
          "metadata": {},
          "execution_count": 35
        }
      ]
    },
    {
      "cell_type": "code",
      "metadata": {
        "id": "DN7G15R-HpK5",
        "colab": {
          "base_uri": "https://localhost:8080/",
          "height": 206
        },
        "outputId": "7f255707-0955-46ab-ebc4-fa817f4f46d0"
      },
      "source": [
        "sorted_sales = sales_per_store.sort_values(['Sales'], ascending=False)\n",
        "sorted_sales.head()"
      ],
      "execution_count": 36,
      "outputs": [
        {
          "output_type": "execute_result",
          "data": {
            "text/html": [
              "<div>\n",
              "<style scoped>\n",
              "    .dataframe tbody tr th:only-of-type {\n",
              "        vertical-align: middle;\n",
              "    }\n",
              "\n",
              "    .dataframe tbody tr th {\n",
              "        vertical-align: top;\n",
              "    }\n",
              "\n",
              "    .dataframe thead th {\n",
              "        text-align: right;\n",
              "    }\n",
              "</style>\n",
              "<table border=\"1\" class=\"dataframe\">\n",
              "  <thead>\n",
              "    <tr style=\"text-align: right;\">\n",
              "      <th></th>\n",
              "      <th>Store</th>\n",
              "      <th>Date</th>\n",
              "      <th>Sales</th>\n",
              "    </tr>\n",
              "  </thead>\n",
              "  <tbody>\n",
              "    <tr>\n",
              "      <th>687637</th>\n",
              "      <td>909</td>\n",
              "      <td>2015-06-22</td>\n",
              "      <td>41551</td>\n",
              "    </tr>\n",
              "    <tr>\n",
              "      <th>197444</th>\n",
              "      <td>262</td>\n",
              "      <td>2015-04-03</td>\n",
              "      <td>38722</td>\n",
              "    </tr>\n",
              "    <tr>\n",
              "      <th>197472</th>\n",
              "      <td>262</td>\n",
              "      <td>2015-05-01</td>\n",
              "      <td>38484</td>\n",
              "    </tr>\n",
              "    <tr>\n",
              "      <th>197485</th>\n",
              "      <td>262</td>\n",
              "      <td>2015-05-14</td>\n",
              "      <td>38367</td>\n",
              "    </tr>\n",
              "    <tr>\n",
              "      <th>42684</th>\n",
              "      <td>57</td>\n",
              "      <td>2014-06-16</td>\n",
              "      <td>38037</td>\n",
              "    </tr>\n",
              "  </tbody>\n",
              "</table>\n",
              "</div>"
            ],
            "text/plain": [
              "        Store       Date  Sales\n",
              "687637    909 2015-06-22  41551\n",
              "197444    262 2015-04-03  38722\n",
              "197472    262 2015-05-01  38484\n",
              "197485    262 2015-05-14  38367\n",
              "42684      57 2014-06-16  38037"
            ]
          },
          "metadata": {},
          "execution_count": 36
        }
      ]
    },
    {
      "cell_type": "code",
      "metadata": {
        "id": "5WW1Z3tmHpH_",
        "colab": {
          "base_uri": "https://localhost:8080/"
        },
        "outputId": "6ccb9e5c-b419-45c0-82e4-2d8f90b5eea0"
      },
      "source": [
        "top_five = sorted_sales[:5]\n",
        "print(top_five)"
      ],
      "execution_count": 37,
      "outputs": [
        {
          "output_type": "stream",
          "name": "stdout",
          "text": [
            "        Store       Date  Sales\n",
            "687637    909 2015-06-22  41551\n",
            "197444    262 2015-04-03  38722\n",
            "197472    262 2015-05-01  38484\n",
            "197485    262 2015-05-14  38367\n",
            "42684      57 2014-06-16  38037\n"
          ]
        }
      ]
    },
    {
      "cell_type": "code",
      "metadata": {
        "id": "NJY6usM7HpFC",
        "colab": {
          "base_uri": "https://localhost:8080/"
        },
        "outputId": "24c65891-d4f5-423e-976e-ad840b4ddab4"
      },
      "source": [
        "bottom_five = sorted_sales[-5:]\n",
        "print(bottom_five)"
      ],
      "execution_count": 38,
      "outputs": [
        {
          "output_type": "stream",
          "name": "stdout",
          "text": [
            "        Store       Date  Sales\n",
            "827030   1093 2013-06-03    133\n",
            "679728    898 2015-01-31    124\n",
            "493191    652 2014-11-22     46\n",
            "832877   1100 2014-04-29      0\n",
            "716688    948 2013-04-25      0\n"
          ]
        }
      ]
    },
    {
      "cell_type": "markdown",
      "metadata": {
        "id": "2hYJ2ng4p56E"
      },
      "source": [
        "## **Plotting the 5 top and 5 bottom stores on bases of sales with respect to sales of each week**\n",
        "- For each store, group it's sales by week_of_year and year_week and plot it against the sales"
      ]
    },
    {
      "cell_type": "code",
      "metadata": {
        "colab": {
          "base_uri": "https://localhost:8080/",
          "height": 1000
        },
        "id": "aiRYIJyn_uZ3",
        "outputId": "baf460ba-8a6b-4aa1-9f5f-b4b7cebb9679"
      },
      "source": [
        "for store in top_five[\"Store\"].to_list():\n",
        "  df = train_df[train_df[\"Store\"] == store]\n",
        "  grouped_by_week_df = df[['week_of_year', 'year_week', 'Sales']].groupby(['year_week', 'week_of_year']).agg({'Sales': 'sum'}).reset_index()\n",
        "  label = f\"Store - {store}\"\n",
        "  sns.lineplot(x='week_of_year', y=\"Sales\", data=grouped_by_week_df, label=label)\n",
        "  plt.show()"
      ],
      "execution_count": 39,
      "outputs": [
        {
          "output_type": "display_data",
          "data": {
            "image/png": "[encoded data removed]",
            "text/plain": [
              "<Figure size 432x288 with 1 Axes>"
            ]
          },
          "metadata": {
            "needs_background": "light"
          }
        },
        {
          "output_type": "display_data",
          "data": {
            "image/png": "[encoded data removed]",
            "text/plain": [
              "<Figure size 432x288 with 1 Axes>"
            ]
          },
          "metadata": {
            "needs_background": "light"
          }
        },
        {
          "output_type": "display_data",
          "data": {
            "image/png": "[encoded data removed]",
            "text/plain": [
              "<Figure size 432x288 with 1 Axes>"
            ]
          },
          "metadata": {
            "needs_background": "light"
          }
        },
        {
          "output_type": "display_data",
          "data": {
            "image/png": "[encoded data removed]",
            "text/plain": [
              "<Figure size 432x288 with 1 Axes>"
            ]
          },
          "metadata": {
            "needs_background": "light"
          }
        },
        {
          "output_type": "display_data",
          "data": {
            "image/png": "[encoded data removed]",
            "text/plain": [
              "<Figure size 432x288 with 1 Axes>"
            ]
          },
          "metadata": {
            "needs_background": "light"
          }
        }
      ]
    },
    {
      "cell_type": "code",
      "metadata": {
        "colab": {
          "base_uri": "https://localhost:8080/",
          "height": 1000
        },
        "id": "Dojyuw3d_uHR",
        "outputId": "9657e3aa-ef73-49eb-d6ad-36e3c02f62a2"
      },
      "source": [
        "for store in bottom_five[\"Store\"].to_list():\n",
        "  df = train_df[train_df[\"Store\"] == store]\n",
        "  grouped_by_week_df = df[['week_of_year', 'year_week', 'Sales']].groupby(['year_week', 'week_of_year']).agg({'Sales': 'sum'}).reset_index()\n",
        "  label = f\"Store - {store}\"\n",
        "  sns.lineplot(x='week_of_year', y=\"Sales\", data=grouped_by_week_df, label=label)\n",
        "  plt.show()"
      ],
      "execution_count": 40,
      "outputs": [
        {
          "output_type": "display_data",
          "data": {
            "image/png": "[encoded data removed]",
            "text/plain": [
              "<Figure size 432x288 with 1 Axes>"
            ]
          },
          "metadata": {
            "needs_background": "light"
          }
        },
        {
          "output_type": "display_data",
          "data": {
            "image/png": "[encoded data removed]",
            "text/plain": [
              "<Figure size 432x288 with 1 Axes>"
            ]
          },
          "metadata": {
            "needs_background": "light"
          }
        },
        {
          "output_type": "display_data",
          "data": {
            "image/png": "[encoded data removed]",
            "text/plain": [
              "<Figure size 432x288 with 1 Axes>"
            ]
          },
          "metadata": {
            "needs_background": "light"
          }
        },
        {
          "output_type": "display_data",
          "data": {
            "image/png": "[encoded data removed]",
            "text/plain": [
              "<Figure size 432x288 with 1 Axes>"
            ]
          },
          "metadata": {
            "needs_background": "light"
          }
        },
        {
          "output_type": "display_data",
          "data": {
            "image/png": "[encoded data removed]",
            "text/plain": [
              "<Figure size 432x288 with 1 Axes>"
            ]
          },
          "metadata": {
            "needs_background": "light"
          }
        }
      ]
    },
    {
      "cell_type": "markdown",
      "metadata": {
        "id": "hr8DfrUHqefY"
      },
      "source": [
        "## **Analyzis of sales with competitors**\n",
        "- First, we need to modify the types of the columns.\n",
        "- Calculating since when the competition has been open and storing 0 if it's negative.\n",
        "- Grouping based on store, competitionopen, competitiondistance and date - it will give us data related to competitors.\n",
        "- Group the most near competitions and plot them."
      ]
    },
    {
      "cell_type": "code",
      "metadata": {
        "id": "7KShCmrg_tvp"
      },
      "source": [
        "# competition\n",
        "train_df['CompetitionOpenSinceMonth'] = train_df['CompetitionOpenSinceMonth'].astype( 'int64' )\n",
        "train_df['CompetitionOpenSinceYear'] = train_df['CompetitionOpenSinceYear'].astype( 'int64' )"
      ],
      "execution_count": 41,
      "outputs": []
    },
    {
      "cell_type": "code",
      "metadata": {
        "id": "CmcNNvU-_ttC"
      },
      "source": [
        "train_df['CompetitionOpen'] = 12 * (train_df['year'] - train_df['CompetitionOpenSinceYear']) + (train_df['month'] - train_df['CompetitionOpenSinceMonth'])\n",
        "train_df['CompetitionOpen'] = train_df['CompetitionOpen'].map(lambda x: 0 if x < 0 else x)"
      ],
      "execution_count": 42,
      "outputs": []
    },
    {
      "cell_type": "code",
      "metadata": {
        "colab": {
          "base_uri": "https://localhost:8080/",
          "height": 206
        },
        "id": "DqnSMrUt_tqn",
        "outputId": "efba9cd4-8c3a-4d9f-cd01-973156fb0bd4"
      },
      "source": [
        "competitor_data = train_df.groupby(['Store', 'Date', 'CompetitionDistance',\t'CompetitionOpen']).agg({'Sales': 'sum'}).reset_index()\n",
        "competitor_data.head()"
      ],
      "execution_count": 43,
      "outputs": [
        {
          "output_type": "execute_result",
          "data": {
            "text/html": [
              "<div>\n",
              "<style scoped>\n",
              "    .dataframe tbody tr th:only-of-type {\n",
              "        vertical-align: middle;\n",
              "    }\n",
              "\n",
              "    .dataframe tbody tr th {\n",
              "        vertical-align: top;\n",
              "    }\n",
              "\n",
              "    .dataframe thead th {\n",
              "        text-align: right;\n",
              "    }\n",
              "</style>\n",
              "<table border=\"1\" class=\"dataframe\">\n",
              "  <thead>\n",
              "    <tr style=\"text-align: right;\">\n",
              "      <th></th>\n",
              "      <th>Store</th>\n",
              "      <th>Date</th>\n",
              "      <th>CompetitionDistance</th>\n",
              "      <th>CompetitionOpen</th>\n",
              "      <th>Sales</th>\n",
              "    </tr>\n",
              "  </thead>\n",
              "  <tbody>\n",
              "    <tr>\n",
              "      <th>0</th>\n",
              "      <td>1</td>\n",
              "      <td>2013-01-02</td>\n",
              "      <td>1270.0</td>\n",
              "      <td>52</td>\n",
              "      <td>5530</td>\n",
              "    </tr>\n",
              "    <tr>\n",
              "      <th>1</th>\n",
              "      <td>1</td>\n",
              "      <td>2013-01-03</td>\n",
              "      <td>1270.0</td>\n",
              "      <td>52</td>\n",
              "      <td>4327</td>\n",
              "    </tr>\n",
              "    <tr>\n",
              "      <th>2</th>\n",
              "      <td>1</td>\n",
              "      <td>2013-01-04</td>\n",
              "      <td>1270.0</td>\n",
              "      <td>52</td>\n",
              "      <td>4486</td>\n",
              "    </tr>\n",
              "    <tr>\n",
              "      <th>3</th>\n",
              "      <td>1</td>\n",
              "      <td>2013-01-05</td>\n",
              "      <td>1270.0</td>\n",
              "      <td>52</td>\n",
              "      <td>4997</td>\n",
              "    </tr>\n",
              "    <tr>\n",
              "      <th>4</th>\n",
              "      <td>1</td>\n",
              "      <td>2013-01-07</td>\n",
              "      <td>1270.0</td>\n",
              "      <td>52</td>\n",
              "      <td>7176</td>\n",
              "    </tr>\n",
              "  </tbody>\n",
              "</table>\n",
              "</div>"
            ],
            "text/plain": [
              "   Store       Date  CompetitionDistance  CompetitionOpen  Sales\n",
              "0      1 2013-01-02               1270.0               52   5530\n",
              "1      1 2013-01-03               1270.0               52   4327\n",
              "2      1 2013-01-04               1270.0               52   4486\n",
              "3      1 2013-01-05               1270.0               52   4997\n",
              "4      1 2013-01-07               1270.0               52   7176"
            ]
          },
          "metadata": {},
          "execution_count": 43
        }
      ]
    },
    {
      "cell_type": "code",
      "metadata": {
        "colab": {
          "base_uri": "https://localhost:8080/",
          "height": 206
        },
        "id": "Ne9roKsuKriU",
        "outputId": "986bc517-9b5b-40bb-aa17-b9ab242f59ab"
      },
      "source": [
        "competitor_data[\"week_of_year\"] = competitor_data[\"Date\"].dt.isocalendar().week\n",
        "competitor_data[\"year_week\"] = competitor_data[\"Date\"].dt.strftime(\"%Y-%W\")\n",
        "competitor_data.head()"
      ],
      "execution_count": 44,
      "outputs": [
        {
          "output_type": "execute_result",
          "data": {
            "text/html": [
              "<div>\n",
              "<style scoped>\n",
              "    .dataframe tbody tr th:only-of-type {\n",
              "        vertical-align: middle;\n",
              "    }\n",
              "\n",
              "    .dataframe tbody tr th {\n",
              "        vertical-align: top;\n",
              "    }\n",
              "\n",
              "    .dataframe thead th {\n",
              "        text-align: right;\n",
              "    }\n",
              "</style>\n",
              "<table border=\"1\" class=\"dataframe\">\n",
              "  <thead>\n",
              "    <tr style=\"text-align: right;\">\n",
              "      <th></th>\n",
              "      <th>Store</th>\n",
              "      <th>Date</th>\n",
              "      <th>CompetitionDistance</th>\n",
              "      <th>CompetitionOpen</th>\n",
              "      <th>Sales</th>\n",
              "      <th>week_of_year</th>\n",
              "      <th>year_week</th>\n",
              "    </tr>\n",
              "  </thead>\n",
              "  <tbody>\n",
              "    <tr>\n",
              "      <th>0</th>\n",
              "      <td>1</td>\n",
              "      <td>2013-01-02</td>\n",
              "      <td>1270.0</td>\n",
              "      <td>52</td>\n",
              "      <td>5530</td>\n",
              "      <td>1</td>\n",
              "      <td>2013-00</td>\n",
              "    </tr>\n",
              "    <tr>\n",
              "      <th>1</th>\n",
              "      <td>1</td>\n",
              "      <td>2013-01-03</td>\n",
              "      <td>1270.0</td>\n",
              "      <td>52</td>\n",
              "      <td>4327</td>\n",
              "      <td>1</td>\n",
              "      <td>2013-00</td>\n",
              "    </tr>\n",
              "    <tr>\n",
              "      <th>2</th>\n",
              "      <td>1</td>\n",
              "      <td>2013-01-04</td>\n",
              "      <td>1270.0</td>\n",
              "      <td>52</td>\n",
              "      <td>4486</td>\n",
              "      <td>1</td>\n",
              "      <td>2013-00</td>\n",
              "    </tr>\n",
              "    <tr>\n",
              "      <th>3</th>\n",
              "      <td>1</td>\n",
              "      <td>2013-01-05</td>\n",
              "      <td>1270.0</td>\n",
              "      <td>52</td>\n",
              "      <td>4997</td>\n",
              "      <td>1</td>\n",
              "      <td>2013-00</td>\n",
              "    </tr>\n",
              "    <tr>\n",
              "      <th>4</th>\n",
              "      <td>1</td>\n",
              "      <td>2013-01-07</td>\n",
              "      <td>1270.0</td>\n",
              "      <td>52</td>\n",
              "      <td>7176</td>\n",
              "      <td>2</td>\n",
              "      <td>2013-01</td>\n",
              "    </tr>\n",
              "  </tbody>\n",
              "</table>\n",
              "</div>"
            ],
            "text/plain": [
              "   Store       Date  CompetitionDistance  CompetitionOpen  Sales  \\\n",
              "0      1 2013-01-02               1270.0               52   5530   \n",
              "1      1 2013-01-03               1270.0               52   4327   \n",
              "2      1 2013-01-04               1270.0               52   4486   \n",
              "3      1 2013-01-05               1270.0               52   4997   \n",
              "4      1 2013-01-07               1270.0               52   7176   \n",
              "\n",
              "   week_of_year year_week  \n",
              "0             1   2013-00  \n",
              "1             1   2013-00  \n",
              "2             1   2013-00  \n",
              "3             1   2013-00  \n",
              "4             2   2013-01  "
            ]
          },
          "metadata": {},
          "execution_count": 44
        }
      ]
    },
    {
      "cell_type": "code",
      "metadata": {
        "colab": {
          "base_uri": "https://localhost:8080/",
          "height": 206
        },
        "id": "fMglhIYV_te-",
        "outputId": "41bd6d24-b42c-4265-ad9f-10b26d310285"
      },
      "source": [
        "sales_per_week = competitor_data.groupby(['week_of_year', 'year_week', 'Store', 'CompetitionDistance', 'CompetitionOpen']).agg({'Sales': 'sum'}).reset_index()\n",
        "sales_per_week.head()"
      ],
      "execution_count": 45,
      "outputs": [
        {
          "output_type": "execute_result",
          "data": {
            "text/html": [
              "<div>\n",
              "<style scoped>\n",
              "    .dataframe tbody tr th:only-of-type {\n",
              "        vertical-align: middle;\n",
              "    }\n",
              "\n",
              "    .dataframe tbody tr th {\n",
              "        vertical-align: top;\n",
              "    }\n",
              "\n",
              "    .dataframe thead th {\n",
              "        text-align: right;\n",
              "    }\n",
              "</style>\n",
              "<table border=\"1\" class=\"dataframe\">\n",
              "  <thead>\n",
              "    <tr style=\"text-align: right;\">\n",
              "      <th></th>\n",
              "      <th>week_of_year</th>\n",
              "      <th>year_week</th>\n",
              "      <th>Store</th>\n",
              "      <th>CompetitionDistance</th>\n",
              "      <th>CompetitionOpen</th>\n",
              "      <th>Sales</th>\n",
              "    </tr>\n",
              "  </thead>\n",
              "  <tbody>\n",
              "    <tr>\n",
              "      <th>0</th>\n",
              "      <td>1</td>\n",
              "      <td>2013-00</td>\n",
              "      <td>1</td>\n",
              "      <td>1270.0</td>\n",
              "      <td>52</td>\n",
              "      <td>19340</td>\n",
              "    </tr>\n",
              "    <tr>\n",
              "      <th>1</th>\n",
              "      <td>1</td>\n",
              "      <td>2013-00</td>\n",
              "      <td>2</td>\n",
              "      <td>570.0</td>\n",
              "      <td>62</td>\n",
              "      <td>15407</td>\n",
              "    </tr>\n",
              "    <tr>\n",
              "      <th>2</th>\n",
              "      <td>1</td>\n",
              "      <td>2013-00</td>\n",
              "      <td>3</td>\n",
              "      <td>14130.0</td>\n",
              "      <td>73</td>\n",
              "      <td>23317</td>\n",
              "    </tr>\n",
              "    <tr>\n",
              "      <th>3</th>\n",
              "      <td>1</td>\n",
              "      <td>2013-00</td>\n",
              "      <td>4</td>\n",
              "      <td>620.0</td>\n",
              "      <td>40</td>\n",
              "      <td>36816</td>\n",
              "    </tr>\n",
              "    <tr>\n",
              "      <th>4</th>\n",
              "      <td>1</td>\n",
              "      <td>2013-00</td>\n",
              "      <td>5</td>\n",
              "      <td>29910.0</td>\n",
              "      <td>0</td>\n",
              "      <td>13764</td>\n",
              "    </tr>\n",
              "  </tbody>\n",
              "</table>\n",
              "</div>"
            ],
            "text/plain": [
              "   week_of_year year_week  Store  CompetitionDistance  CompetitionOpen  Sales\n",
              "0             1   2013-00      1               1270.0               52  19340\n",
              "1             1   2013-00      2                570.0               62  15407\n",
              "2             1   2013-00      3              14130.0               73  23317\n",
              "3             1   2013-00      4                620.0               40  36816\n",
              "4             1   2013-00      5              29910.0                0  13764"
            ]
          },
          "metadata": {},
          "execution_count": 45
        }
      ]
    },
    {
      "cell_type": "code",
      "metadata": {
        "colab": {
          "base_uri": "https://localhost:8080/",
          "height": 206
        },
        "id": "JL_4dHbz_tcI",
        "outputId": "092d9fed-9e7d-4071-d424-8c36beaf6bde"
      },
      "source": [
        "plot_df = sales_per_week.groupby(['CompetitionDistance','CompetitionOpen']).agg({'Sales': 'mean'}).reset_index()\n",
        "plot_df.head()"
      ],
      "execution_count": 46,
      "outputs": [
        {
          "output_type": "execute_result",
          "data": {
            "text/html": [
              "<div>\n",
              "<style scoped>\n",
              "    .dataframe tbody tr th:only-of-type {\n",
              "        vertical-align: middle;\n",
              "    }\n",
              "\n",
              "    .dataframe tbody tr th {\n",
              "        vertical-align: top;\n",
              "    }\n",
              "\n",
              "    .dataframe thead th {\n",
              "        text-align: right;\n",
              "    }\n",
              "</style>\n",
              "<table border=\"1\" class=\"dataframe\">\n",
              "  <thead>\n",
              "    <tr style=\"text-align: right;\">\n",
              "      <th></th>\n",
              "      <th>CompetitionDistance</th>\n",
              "      <th>CompetitionOpen</th>\n",
              "      <th>Sales</th>\n",
              "    </tr>\n",
              "  </thead>\n",
              "  <tbody>\n",
              "    <tr>\n",
              "      <th>0</th>\n",
              "      <td>20.0</td>\n",
              "      <td>24157</td>\n",
              "      <td>25490.6</td>\n",
              "    </tr>\n",
              "    <tr>\n",
              "      <th>1</th>\n",
              "      <td>20.0</td>\n",
              "      <td>24158</td>\n",
              "      <td>25430.6</td>\n",
              "    </tr>\n",
              "    <tr>\n",
              "      <th>2</th>\n",
              "      <td>20.0</td>\n",
              "      <td>24159</td>\n",
              "      <td>29737.2</td>\n",
              "    </tr>\n",
              "    <tr>\n",
              "      <th>3</th>\n",
              "      <td>20.0</td>\n",
              "      <td>24160</td>\n",
              "      <td>25842.8</td>\n",
              "    </tr>\n",
              "    <tr>\n",
              "      <th>4</th>\n",
              "      <td>20.0</td>\n",
              "      <td>24161</td>\n",
              "      <td>25466.2</td>\n",
              "    </tr>\n",
              "  </tbody>\n",
              "</table>\n",
              "</div>"
            ],
            "text/plain": [
              "   CompetitionDistance  CompetitionOpen    Sales\n",
              "0                 20.0            24157  25490.6\n",
              "1                 20.0            24158  25430.6\n",
              "2                 20.0            24159  29737.2\n",
              "3                 20.0            24160  25842.8\n",
              "4                 20.0            24161  25466.2"
            ]
          },
          "metadata": {},
          "execution_count": 46
        }
      ]
    },
    {
      "cell_type": "code",
      "metadata": {
        "colab": {
          "base_uri": "https://localhost:8080/",
          "height": 296
        },
        "id": "WPUys_SdMnUB",
        "outputId": "a9141e93-95a5-4f81-df28-b891e37893e7"
      },
      "source": [
        "label = \"Sales per week vs Distance to nearest competitor\"\n",
        "sns.lineplot(x='CompetitionDistance', y='Sales', data=plot_df, label=label)"
      ],
      "execution_count": 47,
      "outputs": [
        {
          "output_type": "execute_result",
          "data": {
            "text/plain": [
              "<matplotlib.axes._subplots.AxesSubplot at 0x7ff7551d1a90>"
            ]
          },
          "metadata": {},
          "execution_count": 47
        },
        {
          "output_type": "display_data",
          "data": {
            "image/png": "[encoded data removed]",
            "text/plain": [
              "<Figure size 432x288 with 1 Axes>"
            ]
          },
          "metadata": {
            "needs_background": "light"
          }
        }
      ]
    },
    {
      "cell_type": "markdown",
      "metadata": {
        "id": "LrHe9bBynAmX"
      },
      "source": [
        "## **Plotting pearson correlation for 5 most interesting features**"
      ]
    },
    {
      "cell_type": "code",
      "metadata": {
        "id": "az87OYykMnMA"
      },
      "source": [
        "df_correlation = train_df[[\"Sales\", \"CompetitionOpen\", \"SalesPerCustomer\", \"SchoolHoliday\", \"Promo\", \"DayOfWeek\"]]"
      ],
      "execution_count": 48,
      "outputs": []
    },
    {
      "cell_type": "code",
      "metadata": {
        "id": "HSl7rNh2MnJa",
        "colab": {
          "base_uri": "https://localhost:8080/",
          "height": 367
        },
        "outputId": "010c6406-3d52-493d-83df-99ca6dfd992c"
      },
      "source": [
        "pear_corr = df_correlation.corr(method='pearson')\n",
        "sns.heatmap(pear_corr)"
      ],
      "execution_count": 49,
      "outputs": [
        {
          "output_type": "execute_result",
          "data": {
            "text/plain": [
              "<matplotlib.axes._subplots.AxesSubplot at 0x7ff754e1df50>"
            ]
          },
          "metadata": {},
          "execution_count": 49
        },
        {
          "output_type": "display_data",
          "data": {
            "image/png": "[encoded data removed]",
            "text/plain": [
              "<Figure size 432x288 with 2 Axes>"
            ]
          },
          "metadata": {
            "needs_background": "light"
          }
        }
      ]
    },
    {
      "cell_type": "code",
      "metadata": {
        "id": "HgoQNYDjMnGz",
        "colab": {
          "base_uri": "https://localhost:8080/",
          "height": 367
        },
        "outputId": "f9e2a343-8556-4320-d0c2-c653dc19dd39"
      },
      "source": [
        "spearman_corr = df_correlation.corr(method='spearman')\n",
        "sns.heatmap(spearman_corr)"
      ],
      "execution_count": 50,
      "outputs": [
        {
          "output_type": "execute_result",
          "data": {
            "text/plain": [
              "<matplotlib.axes._subplots.AxesSubplot at 0x7ff75522c6d0>"
            ]
          },
          "metadata": {},
          "execution_count": 50
        },
        {
          "output_type": "display_data",
          "data": {
            "image/png": "[encoded data removed]",
            "text/plain": [
              "<Figure size 432x288 with 2 Axes>"
            ]
          },
          "metadata": {
            "needs_background": "light"
          }
        }
      ]
    },
    {
      "cell_type": "markdown",
      "metadata": {
        "id": "xon5AN5DAh3D"
      },
      "source": [
        "## **Train-test-validation split, permutation test, plots to show informative properties, RMSPE calculation helper function, etc**\n",
        "\n",
        "- Splitting the train data into validation data and otherwise(Base of if it exists between May-July 2015\n",
        "- Selecting features which we want to use for model training\n",
        "- Helper functions to normalize values\n",
        "- Converting Categorical values to numerical values\n",
        "- Defined RMSPE helper function\n",
        "- Doing a single linear regression on \"StateHoliday\", \"Open\", \"DayOfWeek\"\n",
        "- Printed the RMSPE and p values for each\n"
      ]
    },
    {
      "cell_type": "code",
      "metadata": {
        "id": "Uu4SAZx6MnBW",
        "colab": {
          "base_uri": "https://localhost:8080/",
          "height": 226
        },
        "outputId": "d4d2b4c1-45e7-4762-ad17-897d2883cc4e"
      },
      "source": [
        "validation_split_df = train_df[(train_df[\"Date\"] > \"2015-05-01\") & (train_df[\"Date\"] < \"2015-07-31\")]\n",
        "validation_split_df.head()"
      ],
      "execution_count": 51,
      "outputs": [
        {
          "output_type": "execute_result",
          "data": {
            "text/html": [
              "<div>\n",
              "<style scoped>\n",
              "    .dataframe tbody tr th:only-of-type {\n",
              "        vertical-align: middle;\n",
              "    }\n",
              "\n",
              "    .dataframe tbody tr th {\n",
              "        vertical-align: top;\n",
              "    }\n",
              "\n",
              "    .dataframe thead th {\n",
              "        text-align: right;\n",
              "    }\n",
              "</style>\n",
              "<table border=\"1\" class=\"dataframe\">\n",
              "  <thead>\n",
              "    <tr style=\"text-align: right;\">\n",
              "      <th></th>\n",
              "      <th>Store</th>\n",
              "      <th>DayOfWeek</th>\n",
              "      <th>Date</th>\n",
              "      <th>Sales</th>\n",
              "      <th>Customers</th>\n",
              "      <th>Open</th>\n",
              "      <th>Promo</th>\n",
              "      <th>StateHoliday</th>\n",
              "      <th>SchoolHoliday</th>\n",
              "      <th>SalesPerCustomer</th>\n",
              "      <th>StoreType</th>\n",
              "      <th>Assortment</th>\n",
              "      <th>CompetitionDistance</th>\n",
              "      <th>CompetitionOpenSinceMonth</th>\n",
              "      <th>CompetitionOpenSinceYear</th>\n",
              "      <th>Promo2</th>\n",
              "      <th>Promo2SinceWeek</th>\n",
              "      <th>Promo2SinceYear</th>\n",
              "      <th>PromoInterval</th>\n",
              "      <th>year</th>\n",
              "      <th>month</th>\n",
              "      <th>day</th>\n",
              "      <th>week_of_year</th>\n",
              "      <th>year_week</th>\n",
              "      <th>CompetitionOpen</th>\n",
              "    </tr>\n",
              "  </thead>\n",
              "  <tbody>\n",
              "    <tr>\n",
              "      <th>1113</th>\n",
              "      <td>1</td>\n",
              "      <td>4</td>\n",
              "      <td>2015-07-30</td>\n",
              "      <td>5020</td>\n",
              "      <td>546</td>\n",
              "      <td>1</td>\n",
              "      <td>1</td>\n",
              "      <td>0</td>\n",
              "      <td>1</td>\n",
              "      <td>9.194139</td>\n",
              "      <td>c</td>\n",
              "      <td>a</td>\n",
              "      <td>1270.0</td>\n",
              "      <td>9</td>\n",
              "      <td>2008</td>\n",
              "      <td>0</td>\n",
              "      <td>0.0</td>\n",
              "      <td>0.0</td>\n",
              "      <td>0</td>\n",
              "      <td>2015</td>\n",
              "      <td>7</td>\n",
              "      <td>30</td>\n",
              "      <td>31</td>\n",
              "      <td>2015-30</td>\n",
              "      <td>82</td>\n",
              "    </tr>\n",
              "    <tr>\n",
              "      <th>1114</th>\n",
              "      <td>2</td>\n",
              "      <td>4</td>\n",
              "      <td>2015-07-30</td>\n",
              "      <td>5567</td>\n",
              "      <td>601</td>\n",
              "      <td>1</td>\n",
              "      <td>1</td>\n",
              "      <td>0</td>\n",
              "      <td>1</td>\n",
              "      <td>9.262895</td>\n",
              "      <td>a</td>\n",
              "      <td>a</td>\n",
              "      <td>570.0</td>\n",
              "      <td>11</td>\n",
              "      <td>2007</td>\n",
              "      <td>1</td>\n",
              "      <td>13.0</td>\n",
              "      <td>2010.0</td>\n",
              "      <td>Jan,Apr,Jul,Oct</td>\n",
              "      <td>2015</td>\n",
              "      <td>7</td>\n",
              "      <td>30</td>\n",
              "      <td>31</td>\n",
              "      <td>2015-30</td>\n",
              "      <td>92</td>\n",
              "    </tr>\n",
              "    <tr>\n",
              "      <th>1115</th>\n",
              "      <td>3</td>\n",
              "      <td>4</td>\n",
              "      <td>2015-07-30</td>\n",
              "      <td>8977</td>\n",
              "      <td>823</td>\n",
              "      <td>1</td>\n",
              "      <td>1</td>\n",
              "      <td>0</td>\n",
              "      <td>1</td>\n",
              "      <td>10.907655</td>\n",
              "      <td>a</td>\n",
              "      <td>a</td>\n",
              "      <td>14130.0</td>\n",
              "      <td>12</td>\n",
              "      <td>2006</td>\n",
              "      <td>1</td>\n",
              "      <td>14.0</td>\n",
              "      <td>2011.0</td>\n",
              "      <td>Jan,Apr,Jul,Oct</td>\n",
              "      <td>2015</td>\n",
              "      <td>7</td>\n",
              "      <td>30</td>\n",
              "      <td>31</td>\n",
              "      <td>2015-30</td>\n",
              "      <td>103</td>\n",
              "    </tr>\n",
              "    <tr>\n",
              "      <th>1116</th>\n",
              "      <td>4</td>\n",
              "      <td>4</td>\n",
              "      <td>2015-07-30</td>\n",
              "      <td>10387</td>\n",
              "      <td>1276</td>\n",
              "      <td>1</td>\n",
              "      <td>1</td>\n",
              "      <td>0</td>\n",
              "      <td>1</td>\n",
              "      <td>8.140282</td>\n",
              "      <td>c</td>\n",
              "      <td>c</td>\n",
              "      <td>620.0</td>\n",
              "      <td>9</td>\n",
              "      <td>2009</td>\n",
              "      <td>0</td>\n",
              "      <td>0.0</td>\n",
              "      <td>0.0</td>\n",
              "      <td>0</td>\n",
              "      <td>2015</td>\n",
              "      <td>7</td>\n",
              "      <td>30</td>\n",
              "      <td>31</td>\n",
              "      <td>2015-30</td>\n",
              "      <td>70</td>\n",
              "    </tr>\n",
              "    <tr>\n",
              "      <th>1117</th>\n",
              "      <td>5</td>\n",
              "      <td>4</td>\n",
              "      <td>2015-07-30</td>\n",
              "      <td>4943</td>\n",
              "      <td>539</td>\n",
              "      <td>1</td>\n",
              "      <td>1</td>\n",
              "      <td>0</td>\n",
              "      <td>1</td>\n",
              "      <td>9.170686</td>\n",
              "      <td>a</td>\n",
              "      <td>a</td>\n",
              "      <td>29910.0</td>\n",
              "      <td>4</td>\n",
              "      <td>2015</td>\n",
              "      <td>0</td>\n",
              "      <td>0.0</td>\n",
              "      <td>0.0</td>\n",
              "      <td>0</td>\n",
              "      <td>2015</td>\n",
              "      <td>7</td>\n",
              "      <td>30</td>\n",
              "      <td>31</td>\n",
              "      <td>2015-30</td>\n",
              "      <td>3</td>\n",
              "    </tr>\n",
              "  </tbody>\n",
              "</table>\n",
              "</div>"
            ],
            "text/plain": [
              "      Store  DayOfWeek       Date  Sales  Customers  Open  Promo StateHoliday  \\\n",
              "1113      1          4 2015-07-30   5020        546     1      1            0   \n",
              "1114      2          4 2015-07-30   5567        601     1      1            0   \n",
              "1115      3          4 2015-07-30   8977        823     1      1            0   \n",
              "1116      4          4 2015-07-30  10387       1276     1      1            0   \n",
              "1117      5          4 2015-07-30   4943        539     1      1            0   \n",
              "\n",
              "      SchoolHoliday  SalesPerCustomer StoreType Assortment  \\\n",
              "1113              1          9.194139         c          a   \n",
              "1114              1          9.262895         a          a   \n",
              "1115              1         10.907655         a          a   \n",
              "1116              1          8.140282         c          c   \n",
              "1117              1          9.170686         a          a   \n",
              "\n",
              "      CompetitionDistance  CompetitionOpenSinceMonth  \\\n",
              "1113               1270.0                          9   \n",
              "1114                570.0                         11   \n",
              "1115              14130.0                         12   \n",
              "1116                620.0                          9   \n",
              "1117              29910.0                          4   \n",
              "\n",
              "      CompetitionOpenSinceYear  Promo2  Promo2SinceWeek  Promo2SinceYear  \\\n",
              "1113                      2008       0              0.0              0.0   \n",
              "1114                      2007       1             13.0           2010.0   \n",
              "1115                      2006       1             14.0           2011.0   \n",
              "1116                      2009       0              0.0              0.0   \n",
              "1117                      2015       0              0.0              0.0   \n",
              "\n",
              "        PromoInterval  year  month  day  week_of_year year_week  \\\n",
              "1113                0  2015      7   30            31   2015-30   \n",
              "1114  Jan,Apr,Jul,Oct  2015      7   30            31   2015-30   \n",
              "1115  Jan,Apr,Jul,Oct  2015      7   30            31   2015-30   \n",
              "1116                0  2015      7   30            31   2015-30   \n",
              "1117                0  2015      7   30            31   2015-30   \n",
              "\n",
              "      CompetitionOpen  \n",
              "1113               82  \n",
              "1114               92  \n",
              "1115              103  \n",
              "1116               70  \n",
              "1117                3  "
            ]
          },
          "metadata": {},
          "execution_count": 51
        }
      ]
    },
    {
      "cell_type": "code",
      "metadata": {
        "id": "8JWO7GlMMm7_",
        "colab": {
          "base_uri": "https://localhost:8080/",
          "height": 226
        },
        "outputId": "f4f9866e-3c12-428a-bc69-874a594d8868"
      },
      "source": [
        "train_split_df = train_df[(train_df[\"Date\"] < \"2015-05-01\") | (train_df[\"Date\"] > \"2015-07-31\")]\n",
        "train_split_df.head()"
      ],
      "execution_count": 52,
      "outputs": [
        {
          "output_type": "execute_result",
          "data": {
            "text/html": [
              "<div>\n",
              "<style scoped>\n",
              "    .dataframe tbody tr th:only-of-type {\n",
              "        vertical-align: middle;\n",
              "    }\n",
              "\n",
              "    .dataframe tbody tr th {\n",
              "        vertical-align: top;\n",
              "    }\n",
              "\n",
              "    .dataframe thead th {\n",
              "        text-align: right;\n",
              "    }\n",
              "</style>\n",
              "<table border=\"1\" class=\"dataframe\">\n",
              "  <thead>\n",
              "    <tr style=\"text-align: right;\">\n",
              "      <th></th>\n",
              "      <th>Store</th>\n",
              "      <th>DayOfWeek</th>\n",
              "      <th>Date</th>\n",
              "      <th>Sales</th>\n",
              "      <th>Customers</th>\n",
              "      <th>Open</th>\n",
              "      <th>Promo</th>\n",
              "      <th>StateHoliday</th>\n",
              "      <th>SchoolHoliday</th>\n",
              "      <th>SalesPerCustomer</th>\n",
              "      <th>StoreType</th>\n",
              "      <th>Assortment</th>\n",
              "      <th>CompetitionDistance</th>\n",
              "      <th>CompetitionOpenSinceMonth</th>\n",
              "      <th>CompetitionOpenSinceYear</th>\n",
              "      <th>Promo2</th>\n",
              "      <th>Promo2SinceWeek</th>\n",
              "      <th>Promo2SinceYear</th>\n",
              "      <th>PromoInterval</th>\n",
              "      <th>year</th>\n",
              "      <th>month</th>\n",
              "      <th>day</th>\n",
              "      <th>week_of_year</th>\n",
              "      <th>year_week</th>\n",
              "      <th>CompetitionOpen</th>\n",
              "    </tr>\n",
              "  </thead>\n",
              "  <tbody>\n",
              "    <tr>\n",
              "      <th>84490</th>\n",
              "      <td>1</td>\n",
              "      <td>4</td>\n",
              "      <td>2015-04-30</td>\n",
              "      <td>6228</td>\n",
              "      <td>650</td>\n",
              "      <td>1</td>\n",
              "      <td>1</td>\n",
              "      <td>0</td>\n",
              "      <td>0</td>\n",
              "      <td>9.581538</td>\n",
              "      <td>c</td>\n",
              "      <td>a</td>\n",
              "      <td>1270.0</td>\n",
              "      <td>9</td>\n",
              "      <td>2008</td>\n",
              "      <td>0</td>\n",
              "      <td>0.0</td>\n",
              "      <td>0.0</td>\n",
              "      <td>0</td>\n",
              "      <td>2015</td>\n",
              "      <td>4</td>\n",
              "      <td>30</td>\n",
              "      <td>18</td>\n",
              "      <td>2015-17</td>\n",
              "      <td>79</td>\n",
              "    </tr>\n",
              "    <tr>\n",
              "      <th>84491</th>\n",
              "      <td>2</td>\n",
              "      <td>4</td>\n",
              "      <td>2015-04-30</td>\n",
              "      <td>6884</td>\n",
              "      <td>716</td>\n",
              "      <td>1</td>\n",
              "      <td>1</td>\n",
              "      <td>0</td>\n",
              "      <td>0</td>\n",
              "      <td>9.614525</td>\n",
              "      <td>a</td>\n",
              "      <td>a</td>\n",
              "      <td>570.0</td>\n",
              "      <td>11</td>\n",
              "      <td>2007</td>\n",
              "      <td>1</td>\n",
              "      <td>13.0</td>\n",
              "      <td>2010.0</td>\n",
              "      <td>Jan,Apr,Jul,Oct</td>\n",
              "      <td>2015</td>\n",
              "      <td>4</td>\n",
              "      <td>30</td>\n",
              "      <td>18</td>\n",
              "      <td>2015-17</td>\n",
              "      <td>89</td>\n",
              "    </tr>\n",
              "    <tr>\n",
              "      <th>84492</th>\n",
              "      <td>3</td>\n",
              "      <td>4</td>\n",
              "      <td>2015-04-30</td>\n",
              "      <td>9971</td>\n",
              "      <td>979</td>\n",
              "      <td>1</td>\n",
              "      <td>1</td>\n",
              "      <td>0</td>\n",
              "      <td>0</td>\n",
              "      <td>10.184883</td>\n",
              "      <td>a</td>\n",
              "      <td>a</td>\n",
              "      <td>14130.0</td>\n",
              "      <td>12</td>\n",
              "      <td>2006</td>\n",
              "      <td>1</td>\n",
              "      <td>14.0</td>\n",
              "      <td>2011.0</td>\n",
              "      <td>Jan,Apr,Jul,Oct</td>\n",
              "      <td>2015</td>\n",
              "      <td>4</td>\n",
              "      <td>30</td>\n",
              "      <td>18</td>\n",
              "      <td>2015-17</td>\n",
              "      <td>100</td>\n",
              "    </tr>\n",
              "    <tr>\n",
              "      <th>84493</th>\n",
              "      <td>4</td>\n",
              "      <td>4</td>\n",
              "      <td>2015-04-30</td>\n",
              "      <td>16106</td>\n",
              "      <td>1854</td>\n",
              "      <td>1</td>\n",
              "      <td>1</td>\n",
              "      <td>0</td>\n",
              "      <td>0</td>\n",
              "      <td>8.687163</td>\n",
              "      <td>c</td>\n",
              "      <td>c</td>\n",
              "      <td>620.0</td>\n",
              "      <td>9</td>\n",
              "      <td>2009</td>\n",
              "      <td>0</td>\n",
              "      <td>0.0</td>\n",
              "      <td>0.0</td>\n",
              "      <td>0</td>\n",
              "      <td>2015</td>\n",
              "      <td>4</td>\n",
              "      <td>30</td>\n",
              "      <td>18</td>\n",
              "      <td>2015-17</td>\n",
              "      <td>67</td>\n",
              "    </tr>\n",
              "    <tr>\n",
              "      <th>84494</th>\n",
              "      <td>5</td>\n",
              "      <td>4</td>\n",
              "      <td>2015-04-30</td>\n",
              "      <td>6598</td>\n",
              "      <td>729</td>\n",
              "      <td>1</td>\n",
              "      <td>1</td>\n",
              "      <td>0</td>\n",
              "      <td>0</td>\n",
              "      <td>9.050754</td>\n",
              "      <td>a</td>\n",
              "      <td>a</td>\n",
              "      <td>29910.0</td>\n",
              "      <td>4</td>\n",
              "      <td>2015</td>\n",
              "      <td>0</td>\n",
              "      <td>0.0</td>\n",
              "      <td>0.0</td>\n",
              "      <td>0</td>\n",
              "      <td>2015</td>\n",
              "      <td>4</td>\n",
              "      <td>30</td>\n",
              "      <td>18</td>\n",
              "      <td>2015-17</td>\n",
              "      <td>0</td>\n",
              "    </tr>\n",
              "  </tbody>\n",
              "</table>\n",
              "</div>"
            ],
            "text/plain": [
              "       Store  DayOfWeek       Date  Sales  Customers  Open  Promo  \\\n",
              "84490      1          4 2015-04-30   6228        650     1      1   \n",
              "84491      2          4 2015-04-30   6884        716     1      1   \n",
              "84492      3          4 2015-04-30   9971        979     1      1   \n",
              "84493      4          4 2015-04-30  16106       1854     1      1   \n",
              "84494      5          4 2015-04-30   6598        729     1      1   \n",
              "\n",
              "      StateHoliday  SchoolHoliday  SalesPerCustomer StoreType Assortment  \\\n",
              "84490            0              0          9.581538         c          a   \n",
              "84491            0              0          9.614525         a          a   \n",
              "84492            0              0         10.184883         a          a   \n",
              "84493            0              0          8.687163         c          c   \n",
              "84494            0              0          9.050754         a          a   \n",
              "\n",
              "       CompetitionDistance  CompetitionOpenSinceMonth  \\\n",
              "84490               1270.0                          9   \n",
              "84491                570.0                         11   \n",
              "84492              14130.0                         12   \n",
              "84493                620.0                          9   \n",
              "84494              29910.0                          4   \n",
              "\n",
              "       CompetitionOpenSinceYear  Promo2  Promo2SinceWeek  Promo2SinceYear  \\\n",
              "84490                      2008       0              0.0              0.0   \n",
              "84491                      2007       1             13.0           2010.0   \n",
              "84492                      2006       1             14.0           2011.0   \n",
              "84493                      2009       0              0.0              0.0   \n",
              "84494                      2015       0              0.0              0.0   \n",
              "\n",
              "         PromoInterval  year  month  day  week_of_year year_week  \\\n",
              "84490                0  2015      4   30            18   2015-17   \n",
              "84491  Jan,Apr,Jul,Oct  2015      4   30            18   2015-17   \n",
              "84492  Jan,Apr,Jul,Oct  2015      4   30            18   2015-17   \n",
              "84493                0  2015      4   30            18   2015-17   \n",
              "84494                0  2015      4   30            18   2015-17   \n",
              "\n",
              "       CompetitionOpen  \n",
              "84490               79  \n",
              "84491               89  \n",
              "84492              100  \n",
              "84493               67  \n",
              "84494                0  "
            ]
          },
          "metadata": {},
          "execution_count": 52
        }
      ]
    },
    {
      "cell_type": "code",
      "metadata": {
        "id": "7ovpJEwFUhdD"
      },
      "source": [
        "features = ['DayOfWeek', 'Promo', 'Open', 'StateHoliday', 'SchoolHoliday', 'StoreType', 'Assortment', 'CompetitionDistance', 'CompetitionOpen']\n",
        "target = [\"Sales\"]"
      ],
      "execution_count": 53,
      "outputs": []
    },
    {
      "cell_type": "markdown",
      "metadata": {
        "id": "QPdeVw7qPyp7"
      },
      "source": [
        "## Helper function to normalize features of a dataframe"
      ]
    },
    {
      "cell_type": "code",
      "metadata": {
        "id": "ZwHyOk6MXf3n"
      },
      "source": [
        "def normalize_feature(df, column_names_to_normalize):\n",
        "  result = df.copy()\n",
        "  for feature_name in column_names_to_normalize:\n",
        "      max_value = df[feature_name].max()\n",
        "      min_value = df[feature_name].min()\n",
        "      result[feature_name] = (df[feature_name] - min_value) / (max_value - min_value)\n",
        "  return result"
      ],
      "execution_count": 54,
      "outputs": []
    },
    {
      "cell_type": "code",
      "metadata": {
        "id": "LT4Q4ekSXrTr"
      },
      "source": [
        "train_split_df = normalize_feature(train_split_df, [\"DayOfWeek\", \"CompetitionDistance\", \"CompetitionOpen\"])\n",
        "validation_split_df = normalize_feature(validation_split_df, [\"DayOfWeek\", \"CompetitionDistance\", \"CompetitionOpen\"])"
      ],
      "execution_count": 55,
      "outputs": []
    },
    {
      "cell_type": "code",
      "metadata": {
        "colab": {
          "base_uri": "https://localhost:8080/"
        },
        "id": "d86lXXHYfUX7",
        "outputId": "8aabe718-d3ab-4ade-c52e-dff04e5e171d"
      },
      "source": [
        "print(train_split_df[\"Assortment\"].unique())\n",
        "print(train_split_df[\"StoreType\"].unique())"
      ],
      "execution_count": 56,
      "outputs": [
        {
          "output_type": "stream",
          "name": "stdout",
          "text": [
            "['a' 'c' 'b']\n",
            "['c' 'a' 'd' 'b']\n"
          ]
        }
      ]
    },
    {
      "cell_type": "markdown",
      "metadata": {
        "id": "IqJASLBvP2eb"
      },
      "source": [
        "## Converting categorical data to numerical format"
      ]
    },
    {
      "cell_type": "code",
      "metadata": {
        "id": "E5ezkbVtdRl3"
      },
      "source": [
        "train_split_df[\"StoreType\"] = train_split_df['StoreType'].map(lambda x: 0 if x == \"a\" else (1 if x==\"b\" else (2 if x==\"c\" else 3)))\n",
        "train_split_df[\"Assortment\"] = train_split_df['Assortment'].map(lambda x: 0 if x == \"a\" else (1 if x==\"b\" else 2))\n",
        "train_split_df[\"StateHoliday\"] = train_split_df['StateHoliday'].map(lambda x: 0 if x == \"0\" else (1 if x==\"1\" else (2 if x==\"2\" else 3)))"
      ],
      "execution_count": 57,
      "outputs": []
    },
    {
      "cell_type": "code",
      "metadata": {
        "id": "aksW6zUolgN1"
      },
      "source": [
        "validation_split_df[\"StoreType\"] = validation_split_df['StoreType'].map(lambda x: 0 if x == \"a\" else (1 if x==\"b\" else (2 if x==\"c\" else 3)))\n",
        "validation_split_df[\"Assortment\"] = validation_split_df['Assortment'].map(lambda x: 0 if x == \"a\" else (1 if x==\"b\" else 2))\n",
        "validation_split_df[\"StateHoliday\"] = validation_split_df['StateHoliday'].map(lambda x: 0 if x == \"0\" else (1 if x==\"1\" else (2 if x==\"2\" else 3)))"
      ],
      "execution_count": 58,
      "outputs": []
    },
    {
      "cell_type": "code",
      "metadata": {
        "colab": {
          "base_uri": "https://localhost:8080/",
          "height": 206
        },
        "id": "GyPLTGWBfCvY",
        "outputId": "a7761215-9755-4ac9-c2cf-48a50c195ee1"
      },
      "source": [
        "train_split_df[features].head()"
      ],
      "execution_count": 59,
      "outputs": [
        {
          "output_type": "execute_result",
          "data": {
            "text/html": [
              "<div>\n",
              "<style scoped>\n",
              "    .dataframe tbody tr th:only-of-type {\n",
              "        vertical-align: middle;\n",
              "    }\n",
              "\n",
              "    .dataframe tbody tr th {\n",
              "        vertical-align: top;\n",
              "    }\n",
              "\n",
              "    .dataframe thead th {\n",
              "        text-align: right;\n",
              "    }\n",
              "</style>\n",
              "<table border=\"1\" class=\"dataframe\">\n",
              "  <thead>\n",
              "    <tr style=\"text-align: right;\">\n",
              "      <th></th>\n",
              "      <th>DayOfWeek</th>\n",
              "      <th>Promo</th>\n",
              "      <th>Open</th>\n",
              "      <th>StateHoliday</th>\n",
              "      <th>SchoolHoliday</th>\n",
              "      <th>StoreType</th>\n",
              "      <th>Assortment</th>\n",
              "      <th>CompetitionDistance</th>\n",
              "      <th>CompetitionOpen</th>\n",
              "    </tr>\n",
              "  </thead>\n",
              "  <tbody>\n",
              "    <tr>\n",
              "      <th>84490</th>\n",
              "      <td>0.5</td>\n",
              "      <td>1</td>\n",
              "      <td>1</td>\n",
              "      <td>0</td>\n",
              "      <td>0</td>\n",
              "      <td>2</td>\n",
              "      <td>0</td>\n",
              "      <td>0.016482</td>\n",
              "      <td>0.003267</td>\n",
              "    </tr>\n",
              "    <tr>\n",
              "      <th>84491</th>\n",
              "      <td>0.5</td>\n",
              "      <td>1</td>\n",
              "      <td>1</td>\n",
              "      <td>0</td>\n",
              "      <td>0</td>\n",
              "      <td>0</td>\n",
              "      <td>0</td>\n",
              "      <td>0.007252</td>\n",
              "      <td>0.003680</td>\n",
              "    </tr>\n",
              "    <tr>\n",
              "      <th>84492</th>\n",
              "      <td>0.5</td>\n",
              "      <td>1</td>\n",
              "      <td>1</td>\n",
              "      <td>0</td>\n",
              "      <td>0</td>\n",
              "      <td>0</td>\n",
              "      <td>0</td>\n",
              "      <td>0.186050</td>\n",
              "      <td>0.004135</td>\n",
              "    </tr>\n",
              "    <tr>\n",
              "      <th>84493</th>\n",
              "      <td>0.5</td>\n",
              "      <td>1</td>\n",
              "      <td>1</td>\n",
              "      <td>0</td>\n",
              "      <td>0</td>\n",
              "      <td>2</td>\n",
              "      <td>2</td>\n",
              "      <td>0.007911</td>\n",
              "      <td>0.002770</td>\n",
              "    </tr>\n",
              "    <tr>\n",
              "      <th>84494</th>\n",
              "      <td>0.5</td>\n",
              "      <td>1</td>\n",
              "      <td>1</td>\n",
              "      <td>0</td>\n",
              "      <td>0</td>\n",
              "      <td>0</td>\n",
              "      <td>0</td>\n",
              "      <td>0.394119</td>\n",
              "      <td>0.000000</td>\n",
              "    </tr>\n",
              "  </tbody>\n",
              "</table>\n",
              "</div>"
            ],
            "text/plain": [
              "       DayOfWeek  Promo  Open  StateHoliday  SchoolHoliday  StoreType  \\\n",
              "84490        0.5      1     1             0              0          2   \n",
              "84491        0.5      1     1             0              0          0   \n",
              "84492        0.5      1     1             0              0          0   \n",
              "84493        0.5      1     1             0              0          2   \n",
              "84494        0.5      1     1             0              0          0   \n",
              "\n",
              "       Assortment  CompetitionDistance  CompetitionOpen  \n",
              "84490           0             0.016482         0.003267  \n",
              "84491           0             0.007252         0.003680  \n",
              "84492           0             0.186050         0.004135  \n",
              "84493           2             0.007911         0.002770  \n",
              "84494           0             0.394119         0.000000  "
            ]
          },
          "metadata": {},
          "execution_count": 59
        }
      ]
    },
    {
      "cell_type": "markdown",
      "metadata": {
        "id": "5kaDscylP6ok"
      },
      "source": [
        "## Helper function to calculate RMSPE"
      ]
    },
    {
      "cell_type": "code",
      "metadata": {
        "id": "OzgdmelYfphi"
      },
      "source": [
        "def root_mean_sqr_err(y_act, y_pred):\n",
        "  return np.sqrt(np.mean(np.square((y_act-y_pred)/y_act)))"
      ],
      "execution_count": 60,
      "outputs": []
    },
    {
      "cell_type": "code",
      "metadata": {
        "id": "KivDCW6AhSZW"
      },
      "source": [
        "Y = train_split_df[target]\n",
        "train_split_df = train_split_df[features]"
      ],
      "execution_count": 61,
      "outputs": []
    },
    {
      "cell_type": "code",
      "metadata": {
        "id": "zKYyu5EmlrPE"
      },
      "source": [
        "validation_Y = validation_split_df[target]\n",
        "validation_split_df = validation_split_df[features]"
      ],
      "execution_count": 62,
      "outputs": []
    },
    {
      "cell_type": "code",
      "metadata": {
        "colab": {
          "base_uri": "https://localhost:8080/",
          "height": 206
        },
        "id": "PQ6wiAiHhrJr",
        "outputId": "29fef233-448a-4be2-a32a-ae67d523a7db"
      },
      "source": [
        "train_split_df.head()"
      ],
      "execution_count": 63,
      "outputs": [
        {
          "output_type": "execute_result",
          "data": {
            "text/html": [
              "<div>\n",
              "<style scoped>\n",
              "    .dataframe tbody tr th:only-of-type {\n",
              "        vertical-align: middle;\n",
              "    }\n",
              "\n",
              "    .dataframe tbody tr th {\n",
              "        vertical-align: top;\n",
              "    }\n",
              "\n",
              "    .dataframe thead th {\n",
              "        text-align: right;\n",
              "    }\n",
              "</style>\n",
              "<table border=\"1\" class=\"dataframe\">\n",
              "  <thead>\n",
              "    <tr style=\"text-align: right;\">\n",
              "      <th></th>\n",
              "      <th>DayOfWeek</th>\n",
              "      <th>Promo</th>\n",
              "      <th>Open</th>\n",
              "      <th>StateHoliday</th>\n",
              "      <th>SchoolHoliday</th>\n",
              "      <th>StoreType</th>\n",
              "      <th>Assortment</th>\n",
              "      <th>CompetitionDistance</th>\n",
              "      <th>CompetitionOpen</th>\n",
              "    </tr>\n",
              "  </thead>\n",
              "  <tbody>\n",
              "    <tr>\n",
              "      <th>84490</th>\n",
              "      <td>0.5</td>\n",
              "      <td>1</td>\n",
              "      <td>1</td>\n",
              "      <td>0</td>\n",
              "      <td>0</td>\n",
              "      <td>2</td>\n",
              "      <td>0</td>\n",
              "      <td>0.016482</td>\n",
              "      <td>0.003267</td>\n",
              "    </tr>\n",
              "    <tr>\n",
              "      <th>84491</th>\n",
              "      <td>0.5</td>\n",
              "      <td>1</td>\n",
              "      <td>1</td>\n",
              "      <td>0</td>\n",
              "      <td>0</td>\n",
              "      <td>0</td>\n",
              "      <td>0</td>\n",
              "      <td>0.007252</td>\n",
              "      <td>0.003680</td>\n",
              "    </tr>\n",
              "    <tr>\n",
              "      <th>84492</th>\n",
              "      <td>0.5</td>\n",
              "      <td>1</td>\n",
              "      <td>1</td>\n",
              "      <td>0</td>\n",
              "      <td>0</td>\n",
              "      <td>0</td>\n",
              "      <td>0</td>\n",
              "      <td>0.186050</td>\n",
              "      <td>0.004135</td>\n",
              "    </tr>\n",
              "    <tr>\n",
              "      <th>84493</th>\n",
              "      <td>0.5</td>\n",
              "      <td>1</td>\n",
              "      <td>1</td>\n",
              "      <td>0</td>\n",
              "      <td>0</td>\n",
              "      <td>2</td>\n",
              "      <td>2</td>\n",
              "      <td>0.007911</td>\n",
              "      <td>0.002770</td>\n",
              "    </tr>\n",
              "    <tr>\n",
              "      <th>84494</th>\n",
              "      <td>0.5</td>\n",
              "      <td>1</td>\n",
              "      <td>1</td>\n",
              "      <td>0</td>\n",
              "      <td>0</td>\n",
              "      <td>0</td>\n",
              "      <td>0</td>\n",
              "      <td>0.394119</td>\n",
              "      <td>0.000000</td>\n",
              "    </tr>\n",
              "  </tbody>\n",
              "</table>\n",
              "</div>"
            ],
            "text/plain": [
              "       DayOfWeek  Promo  Open  StateHoliday  SchoolHoliday  StoreType  \\\n",
              "84490        0.5      1     1             0              0          2   \n",
              "84491        0.5      1     1             0              0          0   \n",
              "84492        0.5      1     1             0              0          0   \n",
              "84493        0.5      1     1             0              0          2   \n",
              "84494        0.5      1     1             0              0          0   \n",
              "\n",
              "       Assortment  CompetitionDistance  CompetitionOpen  \n",
              "84490           0             0.016482         0.003267  \n",
              "84491           0             0.007252         0.003680  \n",
              "84492           0             0.186050         0.004135  \n",
              "84493           2             0.007911         0.002770  \n",
              "84494           0             0.394119         0.000000  "
            ]
          },
          "metadata": {},
          "execution_count": 63
        }
      ]
    },
    {
      "cell_type": "code",
      "metadata": {
        "colab": {
          "base_uri": "https://localhost:8080/"
        },
        "id": "litBBX94i2ct",
        "outputId": "f6631b2d-1560-4763-dbe3-fb1fe9327328"
      },
      "source": [
        "train_split_df.dtypes"
      ],
      "execution_count": 64,
      "outputs": [
        {
          "output_type": "execute_result",
          "data": {
            "text/plain": [
              "DayOfWeek              float64\n",
              "Promo                    int64\n",
              "Open                     int64\n",
              "StateHoliday             int64\n",
              "SchoolHoliday            int64\n",
              "StoreType                int64\n",
              "Assortment               int64\n",
              "CompetitionDistance    float64\n",
              "CompetitionOpen        float64\n",
              "dtype: object"
            ]
          },
          "metadata": {},
          "execution_count": 64
        }
      ]
    },
    {
      "cell_type": "code",
      "metadata": {
        "id": "aOMLlh1rhMAp"
      },
      "source": [
        "X_train, X_test, y_train, y_test = train_test_split(train_split_df, Y, test_size=0.2, random_state=2, shuffle=True)"
      ],
      "execution_count": 65,
      "outputs": []
    },
    {
      "cell_type": "markdown",
      "metadata": {
        "id": "jqQzh0edQAD9"
      },
      "source": [
        "## Helper function to make linear regression and fit with single feature parameter"
      ]
    },
    {
      "cell_type": "code",
      "metadata": {
        "id": "GkJ55r2vIKSv"
      },
      "source": [
        "def single_regression(X_train, X_test, n_jobs = None, fit_intercept = None):\n",
        "  if n_jobs and not fit_intercept:\n",
        "    linear_reg = LinearRegression(n_jobs=n_jobs)\n",
        "  elif fit_intercept and not n_jobs:\n",
        "    linear_reg = LinearRegression(fit_intercept=fit_intercept)\n",
        "  elif n_jobs and fit_intercept:\n",
        "    linear_reg = LinearRegression(fit_intercept=fit_intercept, n_jobs=n_jobs)\n",
        "  else:\n",
        "    linear_reg = LinearRegression()\n",
        "  linear_reg.fit(X_train, y_train.values.ravel())\n",
        "  y_pred = linear_reg.predict(X_test)\n",
        "  return y_pred, linear_reg"
      ],
      "execution_count": 66,
      "outputs": []
    },
    {
      "cell_type": "markdown",
      "metadata": {
        "id": "8PkwatRgQFPg"
      },
      "source": [
        "## Helper function to calculate the scores, RMSPE"
      ]
    },
    {
      "cell_type": "code",
      "metadata": {
        "id": "M99gDLVOLYwe"
      },
      "source": [
        "def get_scores(X_train, X_test, y_pred, m, is_validation_required= False, validation_pred= None, p_score=None):\n",
        "  print(f\"Training score is {m.score(X_train, y_train.values.ravel())}\")\n",
        "  print(f\"Test score is {m.score(X_test, y_test)}\")\n",
        "  if is_validation_required:\n",
        "    print(f\"Training RMSPE is {root_mean_sqr_err(y_test, y_pred)}\")\n",
        "    print(f\"Validation score is {m.score(validation_split_df, validation_Y)}\")\n",
        "    print(f\"Validation RMSPE is {root_mean_sqr_err(validation_Y, validation_pred)}\")\n",
        "  else:\n",
        "    print(f\"Training RMSPE is {root_mean_sqr_err(y_test.values.ravel(), y_pred)}\")\n",
        "  if p_score:\n",
        "    score_rand, perm_scores_rand, pvalue_rand = permutation_test_score(m, X_test, y_test.values.ravel(), scoring=\"neg_root_mean_squared_error\", cv=None, n_permutations=100)\n",
        "    print(f\"p value is {pvalue_rand}\")"
      ],
      "execution_count": 67,
      "outputs": []
    },
    {
      "cell_type": "markdown",
      "metadata": {
        "id": "2utWUS8-KnGz"
      },
      "source": [
        "## Doing a single linear regression on \"StateHoliday\", \"Open\", \"DayOfWeek\"\n",
        "## Printed the RMSPE and p values for each Q6\n"
      ]
    },
    {
      "cell_type": "code",
      "metadata": {
        "colab": {
          "base_uri": "https://localhost:8080/"
        },
        "id": "tZkou71WIJ-b",
        "outputId": "cbbb3035-d56c-4671-b8ef-f344b2ce212e"
      },
      "source": [
        "y_pred, model = single_regression(X_train[[\"StateHoliday\"]], X_test[[\"StateHoliday\"]])\n",
        "get_scores(X_train=X_train[[\"StateHoliday\"]], X_test=X_test[[\"StateHoliday\"]], y_pred=y_pred, m=model, p_score=True)"
      ],
      "execution_count": 68,
      "outputs": [
        {
          "output_type": "stream",
          "name": "stdout",
          "text": [
            "Training score is 0.00030475815418995467\n",
            "Test score is 0.00033944509104955056\n",
            "Training RMSPE is 0.6134038263104136\n",
            "p value is 0.009900990099009901\n"
          ]
        }
      ]
    },
    {
      "cell_type": "code",
      "metadata": {
        "colab": {
          "base_uri": "https://localhost:8080/"
        },
        "id": "EKUa88hMPl0A",
        "outputId": "b94696c0-d190-4bfc-93a3-71922429c837"
      },
      "source": [
        "y_pred, model = single_regression(X_train[[\"Open\"]], X_test[[\"Open\"]])\n",
        "get_scores(X_train=X_train[[\"Open\"]], X_test=X_test[[\"Open\"]], y_pred=y_pred, m=model, p_score=True)"
      ],
      "execution_count": 69,
      "outputs": [
        {
          "output_type": "stream",
          "name": "stdout",
          "text": [
            "Training score is 0.0\n",
            "Test score is -1.299608954585807e-05\n",
            "Training RMSPE is 0.6128061431957704\n",
            "p value is 0.7128712871287128\n"
          ]
        }
      ]
    },
    {
      "cell_type": "code",
      "metadata": {
        "colab": {
          "base_uri": "https://localhost:8080/"
        },
        "id": "mH34sBAuPo86",
        "outputId": "7da75f28-e799-4951-d1fa-b098dfb04415"
      },
      "source": [
        "y_pred, model = single_regression(X_train[[\"DayOfWeek\"]], X_test[[\"DayOfWeek\"]])\n",
        "get_scores(X_train=X_train[[\"DayOfWeek\"]], X_test=X_test[[\"DayOfWeek\"]], y_pred=y_pred, m=model, p_score=True)"
      ],
      "execution_count": 70,
      "outputs": [
        {
          "output_type": "stream",
          "name": "stdout",
          "text": [
            "Training score is 0.03131506666655903\n",
            "Test score is 0.03109460013781407\n",
            "Training RMSPE is 0.5858848647904996\n",
            "p value is 0.009900990099009901\n"
          ]
        }
      ]
    },
    {
      "cell_type": "code",
      "metadata": {
        "id": "nf7L0-B-QOM7"
      },
      "source": [
        ""
      ],
      "execution_count": 70,
      "outputs": []
    },
    {
      "cell_type": "markdown",
      "metadata": {
        "id": "mEbfAo8zKtdL"
      },
      "source": [
        "## **Continuing with interesting plots for five informative data-Q7**\n",
        "- How much sales happened every Week of year(lineplot)\n",
        "- How much sales happened by day(Histplot)\n",
        "- How much sales happened by storetype(boxplot)\n",
        "- How much sales happened by category of promo(Boxplot)\n",
        "- How many customers wrt sales(Scatterplot)\n",
        "\n"
      ]
    },
    {
      "cell_type": "code",
      "metadata": {
        "colab": {
          "base_uri": "https://localhost:8080/",
          "height": 308
        },
        "id": "zefKiegbIIe6",
        "outputId": "139797a7-db92-476c-9224-952a33f42843"
      },
      "source": [
        "group_by_month = train_df.groupby([\"week_of_year\"]).sum().reset_index()\n",
        "sns.lineplot(data=group_by_month, y=\"Sales\", x=\"week_of_year\")"
      ],
      "execution_count": 104,
      "outputs": [
        {
          "output_type": "execute_result",
          "data": {
            "text/plain": [
              "<matplotlib.axes._subplots.AxesSubplot at 0x7ff73ed88110>"
            ]
          },
          "metadata": {},
          "execution_count": 104
        },
        {
          "output_type": "display_data",
          "data": {
            "image/png": "[encoded data removed]",
            "text/plain": [
              "<Figure size 432x288 with 1 Axes>"
            ]
          },
          "metadata": {
            "needs_background": "light"
          }
        }
      ]
    },
    {
      "cell_type": "code",
      "metadata": {
        "colab": {
          "base_uri": "https://localhost:8080/",
          "height": 296
        },
        "id": "pNa-gimwQOJ4",
        "outputId": "b24e66e5-8c84-4a2b-927d-88f39b7e1708"
      },
      "source": [
        "sns.histplot(data=train_df, y=\"Sales\", x=\"DayOfWeek\")"
      ],
      "execution_count": 71,
      "outputs": [
        {
          "output_type": "execute_result",
          "data": {
            "text/plain": [
              "<matplotlib.axes._subplots.AxesSubplot at 0x7ff754bd17d0>"
            ]
          },
          "metadata": {},
          "execution_count": 71
        },
        {
          "output_type": "display_data",
          "data": {
            "image/png": "[encoded data removed]",
            "text/plain": [
              "<Figure size 432x288 with 1 Axes>"
            ]
          },
          "metadata": {
            "needs_background": "light"
          }
        }
      ]
    },
    {
      "cell_type": "code",
      "metadata": {
        "colab": {
          "base_uri": "https://localhost:8080/",
          "height": 296
        },
        "id": "qREEGrETQOHf",
        "outputId": "a7b14755-ed45-402c-f1fb-ef456c27dd6b"
      },
      "source": [
        "sns.boxplot(data=train_df, y=\"Sales\", x=\"StoreType\")"
      ],
      "execution_count": 72,
      "outputs": [
        {
          "output_type": "execute_result",
          "data": {
            "text/plain": [
              "<matplotlib.axes._subplots.AxesSubplot at 0x7ff754c56490>"
            ]
          },
          "metadata": {},
          "execution_count": 72
        },
        {
          "output_type": "display_data",
          "data": {
            "image/png": "[encoded data removed]",
            "text/plain": [
              "<Figure size 432x288 with 1 Axes>"
            ]
          },
          "metadata": {
            "needs_background": "light"
          }
        }
      ]
    },
    {
      "cell_type": "code",
      "metadata": {
        "id": "9cL4fcNzQOE3"
      },
      "source": [
        "promo_df = train_df.groupby([\"Promo\"]).sum().reset_index()"
      ],
      "execution_count": 73,
      "outputs": []
    },
    {
      "cell_type": "code",
      "metadata": {
        "colab": {
          "base_uri": "https://localhost:8080/",
          "height": 307
        },
        "id": "WJTxmxUOQOCg",
        "outputId": "77a29717-289d-4623-c135-5d5e0e9607f2"
      },
      "source": [
        "sns.barplot(data=promo_df, y=\"Sales\", x=\"Promo\")"
      ],
      "execution_count": 74,
      "outputs": [
        {
          "output_type": "execute_result",
          "data": {
            "text/plain": [
              "<matplotlib.axes._subplots.AxesSubplot at 0x7ff752e1b1d0>"
            ]
          },
          "metadata": {},
          "execution_count": 74
        },
        {
          "output_type": "display_data",
          "data": {
            "image/png": "[encoded data removed]",
            "text/plain": [
              "<Figure size 432x288 with 1 Axes>"
            ]
          },
          "metadata": {
            "needs_background": "light"
          }
        }
      ]
    },
    {
      "cell_type": "code",
      "metadata": {
        "colab": {
          "base_uri": "https://localhost:8080/",
          "height": 296
        },
        "id": "QKaCtPxFQN9T",
        "outputId": "5b73bfa0-ee30-465e-985c-ec60a912e3c7"
      },
      "source": [
        "interesting_df = train_df.groupby([\"Customers\"]).sum().reset_index()\n",
        "sns.scatterplot(data=interesting_df, y=\"Customers\", x=\"Sales\")"
      ],
      "execution_count": 101,
      "outputs": [
        {
          "output_type": "execute_result",
          "data": {
            "text/plain": [
              "<matplotlib.axes._subplots.AxesSubplot at 0x7ff73eff2810>"
            ]
          },
          "metadata": {},
          "execution_count": 101
        },
        {
          "output_type": "display_data",
          "data": {
            "image/png": "[encoded data removed]",
            "text/plain": [
              "<Figure size 432x288 with 1 Axes>"
            ]
          },
          "metadata": {
            "needs_background": "light"
          }
        }
      ]
    },
    {
      "cell_type": "code",
      "metadata": {
        "id": "Bf6V56cqQN6h"
      },
      "source": [
        ""
      ],
      "execution_count": 74,
      "outputs": []
    },
    {
      "cell_type": "markdown",
      "metadata": {
        "id": "Jlay3SToRUxc"
      },
      "source": [
        "## **Contuining Model building Q8**\n",
        "- Linear Regression\n",
        "- Random Forest Regressor"
      ]
    },
    {
      "cell_type": "code",
      "metadata": {
        "colab": {
          "base_uri": "https://localhost:8080/"
        },
        "id": "O7XGcb8cWBpW",
        "outputId": "b088602d-46b8-4298-faba-a3e4726c37f1"
      },
      "source": [
        "y_pred, model = single_regression(X_train, X_test)\n",
        "get_scores(X_train, X_test, y_pred, model)"
      ],
      "execution_count": 75,
      "outputs": [
        {
          "output_type": "stream",
          "name": "stdout",
          "text": [
            "Training score is 0.1579124941531468\n",
            "Test score is 0.15815082535224478\n",
            "Training RMSPE is 0.5148924734497871\n"
          ]
        }
      ]
    },
    {
      "cell_type": "markdown",
      "metadata": {
        "id": "23J_wEN1LheP"
      },
      "source": [
        "## **Hyper Paramter tunings**\n",
        "- n_estimators(Number of trees)\n",
        "- max_depth(max depth of each tree)\n",
        "- n_jobs(how many processes) -1 means max number\n",
        "- min_samples_leaf(The minimum number of samples required to be at a leaf node)\n",
        "- max_features(Randomly sample columns at each split)\n",
        "\n",
        "Increasing the max_depth and the min_samples_leaf increases the training time. Other scores are printed below\n",
        "\n",
        "## **Q9 - Also doing the t-test for individual model below-**"
      ]
    },
    {
      "cell_type": "code",
      "metadata": {
        "colab": {
          "base_uri": "https://localhost:8080/"
        },
        "id": "Hp1JH--eg5Mu",
        "outputId": "deb84681-d073-4c16-d837-bd86fbb8b033"
      },
      "source": [
        "m = RandomForestRegressor(n_estimators=1, max_depth=3, bootstrap=False, n_jobs=-1)\n",
        "m.fit(X_train, y_train.values.ravel())\n",
        "y_pred = m.predict(X_test)\n",
        "y_pred = np.expand_dims(y_pred, axis=1)\n",
        "validation_pred = m.predict(validation_split_df)\n",
        "validation_pred = np.expand_dims(validation_pred, axis=1)\n",
        "get_scores(X_train=X_train, X_test=X_test, y_pred=y_pred, m=m, is_validation_required=True, validation_pred=validation_pred)"
      ],
      "execution_count": 76,
      "outputs": [
        {
          "output_type": "stream",
          "name": "stdout",
          "text": [
            "Training score is 0.19314201278742615\n",
            "Test score is 0.19186249184931703\n",
            "Training RMSE is Sales    0.510875\n",
            "dtype: float64\n",
            "Validation score is 0.18645376121605872\n",
            "Validation RMSPE is Sales    0.44517\n",
            "dtype: float64\n"
          ]
        }
      ]
    },
    {
      "cell_type": "code",
      "metadata": {
        "colab": {
          "base_uri": "https://localhost:8080/"
        },
        "id": "mJBuZD78Xcsy",
        "outputId": "ae611c7a-a4d9-4c08-a328-54dff70d5a32"
      },
      "source": [
        "print(stats.ttest_ind(y_pred, y_test))"
      ],
      "execution_count": 77,
      "outputs": [
        {
          "output_type": "stream",
          "name": "stdout",
          "text": [
            "Ttest_indResult(statistic=array([1.81170525]), pvalue=array([0.07003274]))\n"
          ]
        }
      ]
    },
    {
      "cell_type": "code",
      "metadata": {
        "colab": {
          "base_uri": "https://localhost:8080/"
        },
        "id": "_u-LwfLLoAZ-",
        "outputId": "8f92fc03-9b0a-4819-c043-e53311f9d3b6"
      },
      "source": [
        "m = RandomForestRegressor(n_estimators=40, max_depth=3, bootstrap=False, n_jobs=-1)\n",
        "m.fit(X_train, y_train.values.ravel())\n",
        "y_pred = m.predict(X_test)\n",
        "y_pred = np.expand_dims(y_pred, axis=1)\n",
        "validation_pred = m.predict(validation_split_df)\n",
        "validation_pred = np.expand_dims(validation_pred, axis=1)\n",
        "get_scores(X_train=X_train, X_test=X_test, y_pred=y_pred, m=m, is_validation_required=True, validation_pred=validation_pred)"
      ],
      "execution_count": 78,
      "outputs": [
        {
          "output_type": "stream",
          "name": "stdout",
          "text": [
            "Training score is 0.19314201278742615\n",
            "Test score is 0.19186249184931703\n",
            "Training RMSE is Sales    0.510875\n",
            "dtype: float64\n",
            "Validation score is 0.18645376121605872\n",
            "Validation RMSPE is Sales    0.44517\n",
            "dtype: float64\n"
          ]
        }
      ]
    },
    {
      "cell_type": "code",
      "metadata": {
        "colab": {
          "base_uri": "https://localhost:8080/"
        },
        "id": "80Vsh3ZsXfFw",
        "outputId": "52e2cac7-361e-44c4-9fd9-e8bc9555261f"
      },
      "source": [
        "print(stats.ttest_ind(y_pred, y_test))"
      ],
      "execution_count": 79,
      "outputs": [
        {
          "output_type": "stream",
          "name": "stdout",
          "text": [
            "Ttest_indResult(statistic=array([1.81170525]), pvalue=array([0.07003274]))\n"
          ]
        }
      ]
    },
    {
      "cell_type": "code",
      "metadata": {
        "id": "dU003aX38yGw",
        "colab": {
          "base_uri": "https://localhost:8080/"
        },
        "outputId": "2db78da4-da24-4913-9d79-98d4267e0265"
      },
      "source": [
        "m = RandomForestRegressor(n_estimators=40, min_samples_leaf=2, max_features=0.99, n_jobs=-1)\n",
        "m.fit(X_train, y_train.values.ravel())\n",
        "y_pred = m.predict(X_test)\n",
        "y_pred = np.expand_dims(y_pred, axis=1)\n",
        "validation_pred = m.predict(validation_split_df)\n",
        "validation_pred = np.expand_dims(validation_pred, axis=1)\n",
        "get_scores(X_train=X_train, X_test=X_test, y_pred=y_pred, m=m, is_validation_required=True, validation_pred=validation_pred)"
      ],
      "execution_count": 80,
      "outputs": [
        {
          "output_type": "stream",
          "name": "stdout",
          "text": [
            "Training score is 0.8994162137453833\n",
            "Test score is 0.8169290516598184\n",
            "Training RMSE is Sales    0.199402\n",
            "dtype: float64\n",
            "Validation score is 0.7189517782743449\n",
            "Validation RMSPE is Sales    0.239818\n",
            "dtype: float64\n"
          ]
        }
      ]
    },
    {
      "cell_type": "code",
      "metadata": {
        "id": "bJo6taSYk7D8",
        "colab": {
          "base_uri": "https://localhost:8080/"
        },
        "outputId": "4e8c14d8-43bc-4e89-c44f-dcd7d9ace775"
      },
      "source": [
        "print(stats.ttest_ind(y_pred, y_test))"
      ],
      "execution_count": 81,
      "outputs": [
        {
          "output_type": "stream",
          "name": "stdout",
          "text": [
            "Ttest_indResult(statistic=array([-0.4420315]), pvalue=array([0.65846673]))\n"
          ]
        }
      ]
    },
    {
      "cell_type": "code",
      "metadata": {
        "id": "UNtWg466XNPl"
      },
      "source": [
        ""
      ],
      "execution_count": 81,
      "outputs": []
    },
    {
      "cell_type": "code",
      "metadata": {
        "id": "rypT_QHvkQOB"
      },
      "source": [
        ""
      ],
      "execution_count": 81,
      "outputs": []
    },
    {
      "cell_type": "markdown",
      "metadata": {
        "id": "-8LI4xoxNSAk"
      },
      "source": [
        "## **Q10-Doing the same preprocessing steps for the test dataframe**\n",
        "- Use the linear regression model to predict and save the output as lr_answer.csv\n",
        "- Use the random forest model to predict and save the output as rr_answer.csv"
      ]
    },
    {
      "cell_type": "code",
      "metadata": {
        "id": "C2rJGjFfkQC4"
      },
      "source": [
        ""
      ],
      "execution_count": 81,
      "outputs": []
    },
    {
      "cell_type": "code",
      "metadata": {
        "colab": {
          "base_uri": "https://localhost:8080/",
          "height": 206
        },
        "id": "b1qiB2bpkP8m",
        "outputId": "1db77e35-949b-4a0e-f2ff-a8260367715e"
      },
      "source": [
        "test_df.head()"
      ],
      "execution_count": 82,
      "outputs": [
        {
          "output_type": "execute_result",
          "data": {
            "text/html": [
              "<div>\n",
              "<style scoped>\n",
              "    .dataframe tbody tr th:only-of-type {\n",
              "        vertical-align: middle;\n",
              "    }\n",
              "\n",
              "    .dataframe tbody tr th {\n",
              "        vertical-align: top;\n",
              "    }\n",
              "\n",
              "    .dataframe thead th {\n",
              "        text-align: right;\n",
              "    }\n",
              "</style>\n",
              "<table border=\"1\" class=\"dataframe\">\n",
              "  <thead>\n",
              "    <tr style=\"text-align: right;\">\n",
              "      <th></th>\n",
              "      <th>Id</th>\n",
              "      <th>Store</th>\n",
              "      <th>DayOfWeek</th>\n",
              "      <th>Date</th>\n",
              "      <th>Open</th>\n",
              "      <th>Promo</th>\n",
              "      <th>StateHoliday</th>\n",
              "      <th>SchoolHoliday</th>\n",
              "    </tr>\n",
              "  </thead>\n",
              "  <tbody>\n",
              "    <tr>\n",
              "      <th>0</th>\n",
              "      <td>1</td>\n",
              "      <td>1</td>\n",
              "      <td>4</td>\n",
              "      <td>2015-09-17</td>\n",
              "      <td>1.0</td>\n",
              "      <td>1</td>\n",
              "      <td>0</td>\n",
              "      <td>0</td>\n",
              "    </tr>\n",
              "    <tr>\n",
              "      <th>1</th>\n",
              "      <td>2</td>\n",
              "      <td>3</td>\n",
              "      <td>4</td>\n",
              "      <td>2015-09-17</td>\n",
              "      <td>1.0</td>\n",
              "      <td>1</td>\n",
              "      <td>0</td>\n",
              "      <td>0</td>\n",
              "    </tr>\n",
              "    <tr>\n",
              "      <th>2</th>\n",
              "      <td>3</td>\n",
              "      <td>7</td>\n",
              "      <td>4</td>\n",
              "      <td>2015-09-17</td>\n",
              "      <td>1.0</td>\n",
              "      <td>1</td>\n",
              "      <td>0</td>\n",
              "      <td>0</td>\n",
              "    </tr>\n",
              "    <tr>\n",
              "      <th>3</th>\n",
              "      <td>4</td>\n",
              "      <td>8</td>\n",
              "      <td>4</td>\n",
              "      <td>2015-09-17</td>\n",
              "      <td>1.0</td>\n",
              "      <td>1</td>\n",
              "      <td>0</td>\n",
              "      <td>0</td>\n",
              "    </tr>\n",
              "    <tr>\n",
              "      <th>4</th>\n",
              "      <td>5</td>\n",
              "      <td>9</td>\n",
              "      <td>4</td>\n",
              "      <td>2015-09-17</td>\n",
              "      <td>1.0</td>\n",
              "      <td>1</td>\n",
              "      <td>0</td>\n",
              "      <td>0</td>\n",
              "    </tr>\n",
              "  </tbody>\n",
              "</table>\n",
              "</div>"
            ],
            "text/plain": [
              "   Id  Store  DayOfWeek        Date  Open  Promo StateHoliday  SchoolHoliday\n",
              "0   1      1          4  2015-09-17   1.0      1            0              0\n",
              "1   2      3          4  2015-09-17   1.0      1            0              0\n",
              "2   3      7          4  2015-09-17   1.0      1            0              0\n",
              "3   4      8          4  2015-09-17   1.0      1            0              0\n",
              "4   5      9          4  2015-09-17   1.0      1            0              0"
            ]
          },
          "metadata": {},
          "execution_count": 82
        }
      ]
    },
    {
      "cell_type": "code",
      "metadata": {
        "colab": {
          "base_uri": "https://localhost:8080/"
        },
        "id": "kILMJCMZkbSz",
        "outputId": "d668f6d5-9531-4d66-eb3c-fa5d2fbe391e"
      },
      "source": [
        "missing = test_df.isnull().sum()\n",
        "missing.sort_values(ascending=False)"
      ],
      "execution_count": 83,
      "outputs": [
        {
          "output_type": "execute_result",
          "data": {
            "text/plain": [
              "Open             11\n",
              "SchoolHoliday     0\n",
              "StateHoliday      0\n",
              "Promo             0\n",
              "Date              0\n",
              "DayOfWeek         0\n",
              "Store             0\n",
              "Id                0\n",
              "dtype: int64"
            ]
          },
          "metadata": {},
          "execution_count": 83
        }
      ]
    },
    {
      "cell_type": "code",
      "metadata": {
        "id": "rh2J8d1kkla_"
      },
      "source": [
        "test_df.fillna(0, inplace = True)\n",
        "test_df = test_df.merge(right=store_df, on='Store', how='left')"
      ],
      "execution_count": 84,
      "outputs": []
    },
    {
      "cell_type": "code",
      "metadata": {
        "id": "j-s0TWHG1JMy"
      },
      "source": [
        "test_df['Date'] = pd.to_datetime(test_df[\"Date\"])\n",
        "test_df[\"year\"] = test_df[\"Date\"].dt.year\n",
        "test_df[\"month\"] = test_df[\"Date\"].dt.month\n",
        "test_df[\"day\"] = test_df[\"Date\"].dt.day\n",
        "test_df[\"week_of_year\"] = test_df[\"Date\"].dt.isocalendar().week\n",
        "test_df[\"year_week\"] = test_df[\"Date\"].dt.strftime(\"%Y-%W\")"
      ],
      "execution_count": 85,
      "outputs": []
    },
    {
      "cell_type": "code",
      "metadata": {
        "id": "K7KfcyJn07Xw"
      },
      "source": [
        "test_df['CompetitionOpen'] = 12 * (test_df['year'] - test_df['CompetitionOpenSinceYear']) + (test_df['month'] - test_df['CompetitionOpenSinceMonth'])\n",
        "test_df['CompetitionOpen'] = test_df['CompetitionOpen'].map(lambda x: 0 if x < 0 else x)"
      ],
      "execution_count": 86,
      "outputs": []
    },
    {
      "cell_type": "code",
      "metadata": {
        "colab": {
          "base_uri": "https://localhost:8080/",
          "height": 226
        },
        "id": "0ykv73dS0CSf",
        "outputId": "f0ec1acf-a4f2-4103-f7b5-c4c284d580e0"
      },
      "source": [
        "test_df.head()"
      ],
      "execution_count": 87,
      "outputs": [
        {
          "output_type": "execute_result",
          "data": {
            "text/html": [
              "<div>\n",
              "<style scoped>\n",
              "    .dataframe tbody tr th:only-of-type {\n",
              "        vertical-align: middle;\n",
              "    }\n",
              "\n",
              "    .dataframe tbody tr th {\n",
              "        vertical-align: top;\n",
              "    }\n",
              "\n",
              "    .dataframe thead th {\n",
              "        text-align: right;\n",
              "    }\n",
              "</style>\n",
              "<table border=\"1\" class=\"dataframe\">\n",
              "  <thead>\n",
              "    <tr style=\"text-align: right;\">\n",
              "      <th></th>\n",
              "      <th>Id</th>\n",
              "      <th>Store</th>\n",
              "      <th>DayOfWeek</th>\n",
              "      <th>Date</th>\n",
              "      <th>Open</th>\n",
              "      <th>Promo</th>\n",
              "      <th>StateHoliday</th>\n",
              "      <th>SchoolHoliday</th>\n",
              "      <th>StoreType</th>\n",
              "      <th>Assortment</th>\n",
              "      <th>CompetitionDistance</th>\n",
              "      <th>CompetitionOpenSinceMonth</th>\n",
              "      <th>CompetitionOpenSinceYear</th>\n",
              "      <th>Promo2</th>\n",
              "      <th>Promo2SinceWeek</th>\n",
              "      <th>Promo2SinceYear</th>\n",
              "      <th>PromoInterval</th>\n",
              "      <th>year</th>\n",
              "      <th>month</th>\n",
              "      <th>day</th>\n",
              "      <th>week_of_year</th>\n",
              "      <th>year_week</th>\n",
              "      <th>CompetitionOpen</th>\n",
              "    </tr>\n",
              "  </thead>\n",
              "  <tbody>\n",
              "    <tr>\n",
              "      <th>0</th>\n",
              "      <td>1</td>\n",
              "      <td>1</td>\n",
              "      <td>4</td>\n",
              "      <td>2015-09-17</td>\n",
              "      <td>1.0</td>\n",
              "      <td>1</td>\n",
              "      <td>0</td>\n",
              "      <td>0</td>\n",
              "      <td>c</td>\n",
              "      <td>a</td>\n",
              "      <td>1270.0</td>\n",
              "      <td>9.0</td>\n",
              "      <td>2008.0</td>\n",
              "      <td>0</td>\n",
              "      <td>0.0</td>\n",
              "      <td>0.0</td>\n",
              "      <td>0</td>\n",
              "      <td>2015</td>\n",
              "      <td>9</td>\n",
              "      <td>17</td>\n",
              "      <td>38</td>\n",
              "      <td>2015-37</td>\n",
              "      <td>84.0</td>\n",
              "    </tr>\n",
              "    <tr>\n",
              "      <th>1</th>\n",
              "      <td>2</td>\n",
              "      <td>3</td>\n",
              "      <td>4</td>\n",
              "      <td>2015-09-17</td>\n",
              "      <td>1.0</td>\n",
              "      <td>1</td>\n",
              "      <td>0</td>\n",
              "      <td>0</td>\n",
              "      <td>a</td>\n",
              "      <td>a</td>\n",
              "      <td>14130.0</td>\n",
              "      <td>12.0</td>\n",
              "      <td>2006.0</td>\n",
              "      <td>1</td>\n",
              "      <td>14.0</td>\n",
              "      <td>2011.0</td>\n",
              "      <td>Jan,Apr,Jul,Oct</td>\n",
              "      <td>2015</td>\n",
              "      <td>9</td>\n",
              "      <td>17</td>\n",
              "      <td>38</td>\n",
              "      <td>2015-37</td>\n",
              "      <td>105.0</td>\n",
              "    </tr>\n",
              "    <tr>\n",
              "      <th>2</th>\n",
              "      <td>3</td>\n",
              "      <td>7</td>\n",
              "      <td>4</td>\n",
              "      <td>2015-09-17</td>\n",
              "      <td>1.0</td>\n",
              "      <td>1</td>\n",
              "      <td>0</td>\n",
              "      <td>0</td>\n",
              "      <td>a</td>\n",
              "      <td>c</td>\n",
              "      <td>24000.0</td>\n",
              "      <td>4.0</td>\n",
              "      <td>2013.0</td>\n",
              "      <td>0</td>\n",
              "      <td>0.0</td>\n",
              "      <td>0.0</td>\n",
              "      <td>0</td>\n",
              "      <td>2015</td>\n",
              "      <td>9</td>\n",
              "      <td>17</td>\n",
              "      <td>38</td>\n",
              "      <td>2015-37</td>\n",
              "      <td>29.0</td>\n",
              "    </tr>\n",
              "    <tr>\n",
              "      <th>3</th>\n",
              "      <td>4</td>\n",
              "      <td>8</td>\n",
              "      <td>4</td>\n",
              "      <td>2015-09-17</td>\n",
              "      <td>1.0</td>\n",
              "      <td>1</td>\n",
              "      <td>0</td>\n",
              "      <td>0</td>\n",
              "      <td>a</td>\n",
              "      <td>a</td>\n",
              "      <td>7520.0</td>\n",
              "      <td>10.0</td>\n",
              "      <td>2014.0</td>\n",
              "      <td>0</td>\n",
              "      <td>0.0</td>\n",
              "      <td>0.0</td>\n",
              "      <td>0</td>\n",
              "      <td>2015</td>\n",
              "      <td>9</td>\n",
              "      <td>17</td>\n",
              "      <td>38</td>\n",
              "      <td>2015-37</td>\n",
              "      <td>11.0</td>\n",
              "    </tr>\n",
              "    <tr>\n",
              "      <th>4</th>\n",
              "      <td>5</td>\n",
              "      <td>9</td>\n",
              "      <td>4</td>\n",
              "      <td>2015-09-17</td>\n",
              "      <td>1.0</td>\n",
              "      <td>1</td>\n",
              "      <td>0</td>\n",
              "      <td>0</td>\n",
              "      <td>a</td>\n",
              "      <td>c</td>\n",
              "      <td>2030.0</td>\n",
              "      <td>8.0</td>\n",
              "      <td>2000.0</td>\n",
              "      <td>0</td>\n",
              "      <td>0.0</td>\n",
              "      <td>0.0</td>\n",
              "      <td>0</td>\n",
              "      <td>2015</td>\n",
              "      <td>9</td>\n",
              "      <td>17</td>\n",
              "      <td>38</td>\n",
              "      <td>2015-37</td>\n",
              "      <td>181.0</td>\n",
              "    </tr>\n",
              "  </tbody>\n",
              "</table>\n",
              "</div>"
            ],
            "text/plain": [
              "   Id  Store  DayOfWeek       Date  Open  Promo StateHoliday  SchoolHoliday  \\\n",
              "0   1      1          4 2015-09-17   1.0      1            0              0   \n",
              "1   2      3          4 2015-09-17   1.0      1            0              0   \n",
              "2   3      7          4 2015-09-17   1.0      1            0              0   \n",
              "3   4      8          4 2015-09-17   1.0      1            0              0   \n",
              "4   5      9          4 2015-09-17   1.0      1            0              0   \n",
              "\n",
              "  StoreType Assortment  CompetitionDistance  CompetitionOpenSinceMonth  \\\n",
              "0         c          a               1270.0                        9.0   \n",
              "1         a          a              14130.0                       12.0   \n",
              "2         a          c              24000.0                        4.0   \n",
              "3         a          a               7520.0                       10.0   \n",
              "4         a          c               2030.0                        8.0   \n",
              "\n",
              "   CompetitionOpenSinceYear  Promo2  Promo2SinceWeek  Promo2SinceYear  \\\n",
              "0                    2008.0       0              0.0              0.0   \n",
              "1                    2006.0       1             14.0           2011.0   \n",
              "2                    2013.0       0              0.0              0.0   \n",
              "3                    2014.0       0              0.0              0.0   \n",
              "4                    2000.0       0              0.0              0.0   \n",
              "\n",
              "     PromoInterval  year  month  day  week_of_year year_week  CompetitionOpen  \n",
              "0                0  2015      9   17            38   2015-37             84.0  \n",
              "1  Jan,Apr,Jul,Oct  2015      9   17            38   2015-37            105.0  \n",
              "2                0  2015      9   17            38   2015-37             29.0  \n",
              "3                0  2015      9   17            38   2015-37             11.0  \n",
              "4                0  2015      9   17            38   2015-37            181.0  "
            ]
          },
          "metadata": {},
          "execution_count": 87
        }
      ]
    },
    {
      "cell_type": "code",
      "metadata": {
        "id": "uFFwKFlSun5p"
      },
      "source": [
        "test_features = ['DayOfWeek', 'Promo', 'Open', 'StateHoliday', 'SchoolHoliday', 'StoreType', 'Assortment', 'CompetitionDistance', 'CompetitionOpen']"
      ],
      "execution_count": 88,
      "outputs": []
    },
    {
      "cell_type": "code",
      "metadata": {
        "id": "OyaUEe6fvbTb"
      },
      "source": [
        "test_df = normalize_feature(test_df, [\"DayOfWeek\", \"CompetitionDistance\", \"CompetitionOpen\"])"
      ],
      "execution_count": 89,
      "outputs": []
    },
    {
      "cell_type": "code",
      "metadata": {
        "id": "HJnFspS8xGe3"
      },
      "source": [
        "test_df[\"StoreType\"] = test_df['StoreType'].map(lambda x: 0 if x == \"a\" else (1 if x==\"b\" else (2 if x==\"c\" else 3)))\n",
        "test_df[\"Assortment\"] = test_df['Assortment'].map(lambda x: 0 if x == \"a\" else (1 if x==\"b\" else 2))\n",
        "test_df[\"StateHoliday\"] = test_df['StateHoliday'].map(lambda x: 0 if x == \"0\" else (1 if x==\"1\" else (2 if x==\"2\" else 3)))"
      ],
      "execution_count": 90,
      "outputs": []
    },
    {
      "cell_type": "code",
      "metadata": {
        "id": "H_2MK-XTxs0t"
      },
      "source": [
        "answer = test_df[[\"Id\"]].copy()\n",
        "test_df = test_df[test_features]"
      ],
      "execution_count": 91,
      "outputs": []
    },
    {
      "cell_type": "code",
      "metadata": {
        "colab": {
          "base_uri": "https://localhost:8080/",
          "height": 206
        },
        "id": "Tj7szNEt6E02",
        "outputId": "e3815b78-33d3-4a04-a0b9-02853bdd72c8"
      },
      "source": [
        "test_df.head()"
      ],
      "execution_count": 92,
      "outputs": [
        {
          "output_type": "execute_result",
          "data": {
            "text/html": [
              "<div>\n",
              "<style scoped>\n",
              "    .dataframe tbody tr th:only-of-type {\n",
              "        vertical-align: middle;\n",
              "    }\n",
              "\n",
              "    .dataframe tbody tr th {\n",
              "        vertical-align: top;\n",
              "    }\n",
              "\n",
              "    .dataframe thead th {\n",
              "        text-align: right;\n",
              "    }\n",
              "</style>\n",
              "<table border=\"1\" class=\"dataframe\">\n",
              "  <thead>\n",
              "    <tr style=\"text-align: right;\">\n",
              "      <th></th>\n",
              "      <th>DayOfWeek</th>\n",
              "      <th>Promo</th>\n",
              "      <th>Open</th>\n",
              "      <th>StateHoliday</th>\n",
              "      <th>SchoolHoliday</th>\n",
              "      <th>StoreType</th>\n",
              "      <th>Assortment</th>\n",
              "      <th>CompetitionDistance</th>\n",
              "      <th>CompetitionOpen</th>\n",
              "    </tr>\n",
              "  </thead>\n",
              "  <tbody>\n",
              "    <tr>\n",
              "      <th>0</th>\n",
              "      <td>0.5</td>\n",
              "      <td>1</td>\n",
              "      <td>1.0</td>\n",
              "      <td>0</td>\n",
              "      <td>0</td>\n",
              "      <td>2</td>\n",
              "      <td>0</td>\n",
              "      <td>0.016482</td>\n",
              "      <td>0.003473</td>\n",
              "    </tr>\n",
              "    <tr>\n",
              "      <th>1</th>\n",
              "      <td>0.5</td>\n",
              "      <td>1</td>\n",
              "      <td>1.0</td>\n",
              "      <td>0</td>\n",
              "      <td>0</td>\n",
              "      <td>0</td>\n",
              "      <td>0</td>\n",
              "      <td>0.186050</td>\n",
              "      <td>0.004341</td>\n",
              "    </tr>\n",
              "    <tr>\n",
              "      <th>2</th>\n",
              "      <td>0.5</td>\n",
              "      <td>1</td>\n",
              "      <td>1.0</td>\n",
              "      <td>0</td>\n",
              "      <td>0</td>\n",
              "      <td>0</td>\n",
              "      <td>2</td>\n",
              "      <td>0.316192</td>\n",
              "      <td>0.001199</td>\n",
              "    </tr>\n",
              "    <tr>\n",
              "      <th>3</th>\n",
              "      <td>0.5</td>\n",
              "      <td>1</td>\n",
              "      <td>1.0</td>\n",
              "      <td>0</td>\n",
              "      <td>0</td>\n",
              "      <td>0</td>\n",
              "      <td>0</td>\n",
              "      <td>0.098892</td>\n",
              "      <td>0.000455</td>\n",
              "    </tr>\n",
              "    <tr>\n",
              "      <th>4</th>\n",
              "      <td>0.5</td>\n",
              "      <td>1</td>\n",
              "      <td>1.0</td>\n",
              "      <td>0</td>\n",
              "      <td>0</td>\n",
              "      <td>0</td>\n",
              "      <td>2</td>\n",
              "      <td>0.026503</td>\n",
              "      <td>0.007483</td>\n",
              "    </tr>\n",
              "  </tbody>\n",
              "</table>\n",
              "</div>"
            ],
            "text/plain": [
              "   DayOfWeek  Promo  Open  StateHoliday  SchoolHoliday  StoreType  Assortment  \\\n",
              "0        0.5      1   1.0             0              0          2           0   \n",
              "1        0.5      1   1.0             0              0          0           0   \n",
              "2        0.5      1   1.0             0              0          0           2   \n",
              "3        0.5      1   1.0             0              0          0           0   \n",
              "4        0.5      1   1.0             0              0          0           2   \n",
              "\n",
              "   CompetitionDistance  CompetitionOpen  \n",
              "0             0.016482         0.003473  \n",
              "1             0.186050         0.004341  \n",
              "2             0.316192         0.001199  \n",
              "3             0.098892         0.000455  \n",
              "4             0.026503         0.007483  "
            ]
          },
          "metadata": {},
          "execution_count": 92
        }
      ]
    },
    {
      "cell_type": "code",
      "metadata": {
        "id": "vK2TUzp9zDea"
      },
      "source": [
        "y_pred_l_regg = model.predict(test_df)"
      ],
      "execution_count": 93,
      "outputs": []
    },
    {
      "cell_type": "code",
      "metadata": {
        "id": "xBuLDqsZzQC8"
      },
      "source": [
        "answer[\"Sales\"] = y_pred_l_regg\n",
        "answer.to_csv(root_dir+\"/lr_answer.csv\",chunksize=1000, index=False)"
      ],
      "execution_count": 94,
      "outputs": []
    },
    {
      "cell_type": "code",
      "metadata": {
        "id": "7AyzAopR6Y5H"
      },
      "source": [
        "y_pred_rr = m.predict(test_df)"
      ],
      "execution_count": 95,
      "outputs": []
    },
    {
      "cell_type": "code",
      "metadata": {
        "id": "Iit7fypW7Z6c"
      },
      "source": [
        "answer[\"Sales\"] = y_pred_l_regg\n",
        "answer.to_csv(root_dir+\"/rr_answer.csv\",chunksize=1000, index=False)"
      ],
      "execution_count": 96,
      "outputs": []
    },
    {
      "cell_type": "code",
      "metadata": {
        "id": "WdoOu2yy7cSh"
      },
      "source": [
        ""
      ],
      "execution_count": 96,
      "outputs": []
    }
  ]
}